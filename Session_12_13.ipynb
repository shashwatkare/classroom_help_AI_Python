{
 "cells": [
  {
   "cell_type": "markdown",
   "source": [
    "## Introduction to Calculus\n",
    "\n",
    "### Part 1\n",
    "Example 1.1\n",
    "\n",
    "Two friends Joe and Adam are travelling in a car with a broken speedometer.\n",
    "\n",
    "Adam: \"Hey Joey, do we know how fast are we going now.?\"\n",
    "\n",
    "Joe: \"Well we don't have a working Speedometer, but wait a minute..\"\n",
    "\n",
    "\" So in last minute we went 1.2 kms, so we should be going \"\n",
    "\" 1.2 km/minute * 60 minutes in an hour which is 72 km/h \"\n",
    "\n",
    "Adam: \"No, Joe I am not asking our Average speed for last minute, I want to know our speed right NOW.\"\n",
    "\n",
    "So Joe looks up at upcoming road-sign\n",
    "\n",
    "Joe: \"Ok lets measure it up here ... NOW\"\n",
    "\n",
    "\" Ok so we are at 0 seconds, and our distance was 0 meters - so our speed is 0m/0s = 0/0 = I don't know\"\n",
    "\n",
    "Joe (frustrated): \"Adam, it will be not possible - I can't calculate speed where you say time should be 0.?\"\n",
    "\n"
   ],
   "metadata": {
    "collapsed": false
   }
  },
  {
   "cell_type": "markdown",
   "source": [
    "### Part 2\n",
    "\n",
    "Joe and Adam arrives at their destination where Joe is about to do a stunt of jumping of a cliff and Adam as a photographer wants to take his pictures\n",
    "![](../../Downloads/screenshot-www.slideshare.net-2022.10.29-15_01_18.png)\n",
    "\n",
    "\n",
    "\n"
   ],
   "metadata": {
    "collapsed": false
   }
  },
  {
   "cell_type": "markdown",
   "source": [
    "\n",
    "Joe will be jumping off a 20m cliff. So Adam asks: \"How fast will you be falling after 1 second.?\"\n",
    "\n",
    "So Joe finds simplified formula to find the distance fallen:\n",
    "\n",
    "$ d = 5dt^{2}$\n",
    "\n",
    "where d is distance fallen in meters\n",
    "and t is time from jump in seconds\n",
    "\n",
    "For example at 1 second Jow has fallen\n",
    "\n",
    "$ d = 5*1^2 => 5 m$\n",
    "\n",
    "but how fast is that .?\n",
    "\n",
    "Speed is distance over time, thus at 1 second:\n",
    "\n",
    "$Speed = 5 m/ 1 second => 5 m/s$\n",
    "\n",
    "\"But\" Adam speaks: \" This is your average speed since you started the jump... I need your speed at exactly 1 second to set up my camera correctly.\"\n"
   ],
   "metadata": {
    "collapsed": false
   }
  },
  {
   "cell_type": "markdown",
   "source": [
    "![](../../Downloads/screenshot-www.slideshare.net-2022.10.29-15_19_24.png)\n"
   ],
   "metadata": {
    "collapsed": false
   }
  },
  {
   "cell_type": "markdown",
   "source": [
    "Joe says : \" Ok so at exact 1 second speed is\n",
    "\n",
    "Speed = (5 -5 m)/(1 - 1s) = 0m/0s = ?????\n",
    "\n",
    "We again have same problem - think about it, how can we calculate something which is both near to zero.\n",
    "\n",
    "Here Joe gets an idea - he invents a time so short it won't matter - he will call it ∆t \"Delta t\"\n",
    "\n",
    "Now Joe works out the difference in distance between $t$ and $t+∆t$\n",
    "\n",
    "So let's calculate it now using new information here :\n",
    "\n",
    "At 1 second Joe has fallen\n",
    "    $d = 5*(1)^2 => 5 m$\n",
    "\n",
    "At 1+∆t seconds he has fallen\n",
    "    $d = 5*(1+∆t)^2 m$\n",
    "\n",
    "we can expand $(1+∆t)^2$ into $1 + 2∆t + (∆t)^2$\n",
    "\n",
    "replacing this in above equation\n",
    "    $d = 5 + 10∆t + 5(∆t)^2$\n",
    "\n",
    "\n",
    "![](../../Downloads/screenshot-www.slideshare.net-2022.10.29-15_29_24.png)"
   ],
   "metadata": {
    "collapsed": false
   }
  },
  {
   "cell_type": "markdown",
   "source": [
    "So between 1 sec and 1+∆t sec the distance fallen is:\n",
    "    $d = (5 + 10∆t + 5(∆t)^2) - 5m$\n",
    "    $d = 10∆t + 5(∆t)^2 m$\n",
    "\n",
    "Dividing this new distance by our new time ∆t should give us speed\n",
    "\n",
    "So finally we get\n",
    "$Speed = 10 + 5∆t m/s$\n",
    "\n",
    "if we consider value of ∆t to be so small which can be shrunk to be zero then\n",
    "$Speed = 10 m/s$\n"
   ],
   "metadata": {
    "collapsed": false
   }
  },
  {
   "cell_type": "markdown",
   "source": [
    "All of the above calculation was possible because of Calculus\n"
   ],
   "metadata": {
    "collapsed": false
   }
  },
  {
   "cell_type": "markdown",
   "source": [
    "## Derivatives\n",
    "\n",
    "As we have seen in the above example we can calculate average speed similarly we can get average slope between two points\n",
    "but how to find slope at a point.?\n",
    "\n",
    "We will use help of ∆ and then shrink it to zero.\n"
   ],
   "metadata": {
    "collapsed": false
   }
  },
  {
   "cell_type": "markdown",
   "source": [
    "Let's find a Derivative\n",
    "\n",
    "To find the derivative of a function $y = f(x)$ we use the slope formula:\n",
    "\n",
    "$Slope =  \\frac{Change\\,in\\,Y}{Change\\,in\\,X} = \\frac{Δy}{Δx}$\n",
    "\n",
    "with the same concept we used in previous example\n",
    "\n",
    "\n",
    "$x\\,changes\\,from\\,x\\,to\\,x+Δx$\\\n",
    "$y\\,changes\\,from\\,f(x)\\,to\\,f(x+Δx)$\n",
    "\n",
    "Let's follow these steps:\n",
    "- Fill in this slope formula:  $\\frac{Δy}{Δx} = \\frac{f(x+Δx) − f(x)}{Δx}$\n",
    "- Simplify it as best we can\n",
    "- Then make $Δx$ shrink towards zero."
   ],
   "metadata": {
    "collapsed": false
   }
  },
  {
   "cell_type": "markdown",
   "source": [
    "Example: the function $f(x) = x^2$\n",
    "We know $f(x) = x^2$, and we can calculate $f(x+Δx)$ :\n",
    "\n",
    "Start with:\n",
    "$f(x+Δx) = (x+Δx^2)$\n",
    "Expand $(x + Δx)^2$:\\\n",
    "$f(x+Δx)$ = $x^2 + 2x Δx + (Δx)^2$\n",
    "\n",
    "\n",
    "The slope formula is: $\\frac{f(x+Δx) − f(x)}{Δx}$\n",
    "\n",
    "Put in $f(x+Δx)$ and $f(x)$:\n",
    "\n",
    "$\\frac{x^2 + 2x Δx + (Δx)^2 − x^2}{Δx}$\n",
    "\n",
    "\n",
    "Simplify ($x^2$ and $−x^2$ cancel): $\\frac{2x Δx + (Δx)^2}{Δx}$\n",
    "\n",
    "Simplify more (divide through by Δx):= $2x + Δx$\n",
    "Then, as Δx heads towards 0 we get:\t= $2x$\n",
    "\n",
    "Result: the derivative of $x^2$ is $2x$\n",
    "\n",
    "In other words, the slope at $x$ is $2x$"
   ],
   "metadata": {
    "collapsed": false
   }
  },
  {
   "cell_type": "markdown",
   "source": [
    "We write $dx$ instead of \"Δx heads towards 0\".\n",
    "\n",
    "And \"the derivative of\" is commonly written\n",
    "$\\frac{d}{dx}$ like this:\n",
    "\n",
    "$\\frac{d}{dx}x^2 = 2x$\n",
    "\n",
    "\n",
    "\"The derivative of $x^2$ equals $2x$\"\n",
    "or simply \"$\\frac{d}{dx}$ of $x^2$ equals $2x$\"\n"
   ],
   "metadata": {
    "collapsed": false
   }
  },
  {
   "cell_type": "markdown",
   "source": [
    "## Chain Rule\n",
    "\n",
    "If we want to find what is $\\frac{d}{dx}sin(x^2)$\n",
    "\n",
    "then break it down first, and we can say that it is made up of $sin()$ and $x^2$\n",
    "\n",
    "or\n",
    "$f(g) = sin(g)$\n",
    "$g(x) = x^2$\n",
    "\n",
    "\n",
    "so according to chain rule\n",
    "\n",
    "\n",
    "$\\frac{d}{dx}f(g(x)) = f'(g(x))g'(x)$\n",
    "\n",
    "applying this on each part\n",
    "$f'(g) = cos(g)$\n",
    "$g'(x) = 2x$\n",
    "\n",
    "thus\n",
    "\n",
    "$\\frac{d}{dx}sin(x^2) = cos(g(x))(2x)  => 2x cos(x^2)$\n",
    "\n",
    "\n",
    "another way to write Chain rule is $\\frac{dy}{dx} = \\frac{dy}{du} \\frac{du}{dx}$\n",
    "\n",
    "assuming $u$ = $x^{2}$ and $y$ = $sin(u)$\n",
    "\n",
    "$\\frac{d}{dx}sin(x^2) = \\frac{d}{du}sin(u) \\frac{d}{dx}x^2 = cos(u) (2x)$\n",
    "\n",
    "substitute $u = x^2$\n",
    "\n",
    "$\\frac{d}{dx}sin(x^{2}) = 2{x}cos(x^{2})$\n",
    "\n",
    "same as above\n",
    "\n"
   ],
   "metadata": {
    "collapsed": false
   }
  },
  {
   "cell_type": "markdown",
   "source": [
    "## Implicit differentiation\n",
    "\n",
    "Solve $x^{2} + y^{2} = r^{2}$\n",
    "\n",
    "Let's differentiate wrt x:\n",
    "\n",
    "$\\frac{d}{dx}(x^{2}) + \\frac{d}{dx}(y^{2}) = \\frac{d}{dx}(r^{2})$\n",
    "\n",
    "Let's break each term and solve them using power rule of derivatives:\n",
    "\n",
    "$\\frac{d}{dx}(x^{2}) = 2{x}$\n",
    "\n",
    "for y\n",
    "$\\frac{d}{dx}(y^{2}) = 2{y}\\frac{dy}{dx}$\n",
    "\n",
    "as $r^{2}$ is a constant it will be 0\n",
    "\n",
    "so we get\n",
    "\n",
    "$ 2{x} + 2{y}\\frac{dy}{dx} = 0$\n",
    "\n",
    "Push all $\\frac{dy}{dx}$ to one side\n",
    "$y\\frac{dy}{dx} = -{x}$\n",
    "\n",
    "Finally solve for $\\frac{dy}{dx}$\n",
    "\n",
    "$\\frac{dy}{dx} = \\frac{-x}{y}$"
   ],
   "metadata": {
    "collapsed": false
   }
  },
  {
   "cell_type": "markdown",
   "source": [
    "## Limits\n",
    "\n",
    "Suppose we have to solve following: $\\frac{(x^{2} - 1)}{(x - 1)}$\n",
    "\n",
    "We can start by substituting $x$ as 1\n",
    "\n",
    "so $ \\frac{(1^{2} - 1)}{(1 - 1)} = \\frac{0}{0}$\n",
    " this gives us a indeterminate value, thus we have to approach x in smaller steps\n",
    "\n",
    "If we say $x = 0.5, 0.9, 0.99, 0.999, 0.9999, 0.99999 $\n",
    "we will get $ 1.5, 1.9, 1.99, 1.999, 1.9999, 1.99999 ....$\n",
    "\n",
    "we can clearly see that as we increment value of $x$ and approach $1$\n",
    "the outcome goes near to $2$\n",
    "\n",
    "But we cannot give our final answer as $2$, therefore word $limit$ was introduced\n",
    "\n",
    "The limit of $\\frac{(x^{2} - 1)}{(x - 1)}$ as $x$ approaches 1 is 2\n",
    "\n",
    "it is represented with symbol\n",
    "\n",
    "\n",
    "$   \\lim_{x->1} \\frac{x^{2} -1 }{x -1} = 2$"
   ],
   "metadata": {
    "collapsed": false
   }
  },
  {
   "cell_type": "markdown",
   "source": [
    "It is important that you test the given limits from both the sides\n",
    "\n",
    "so if we say $x = 1.5, 1.1, 1.01, 1.001, 1.0001, 1.00001 ... $\n",
    "we will get $ 2.5, 2.1, 2.01, 2.001, 2.0001, 2.00001 ....$\n",
    "\n",
    "which again proves that answer is approaching 2 when x is near 1\n"
   ],
   "metadata": {
    "collapsed": false
   }
  },
  {
   "cell_type": "markdown",
   "source": [
    "## Integral Calculus\n",
    "\n",
    "Let's start with finding the area between a function and the x-axis\n",
    "\n",
    "![](../../Downloads/screenshot-www.mathsisfun.com-2022.10.29-22_23_38.png)\n",
    "\n",
    "\n"
   ],
   "metadata": {
    "collapsed": false
   }
  },
  {
   "cell_type": "markdown",
   "source": [
    "### Slices\n",
    "\n",
    "We could calculate the function at a few points and add up slices of width Δx like this (but the answer won't be very accurate):\n",
    "\n",
    "We can make Δx a lot smaller and add up many small slices (answer is getting better):\n",
    "\n",
    "And as the slices approach zero in width, the answer approaches the true answer.\n",
    "\n",
    "\n",
    "We now write dx to mean the Δx slices are approaching zero in width.\n",
    "\n",
    "But we can skip all this addition because we know a shortcut.\n",
    "\n",
    "Finding an integral is the reverse of finding a derivative\n",
    "\n",
    "For example:\n",
    "\n",
    "Integral of $2x$ will be $x^{2}$\n",
    "\n",
    "This can be confirmed more easily by calculating area of a triangle\n",
    "\n",
    "which states\n",
    "\n",
    "Area of Triangle = $\\frac{1}{2}base*height = \\frac{1}{2}x*2x = x^2$\n"
   ],
   "metadata": {
    "collapsed": false
   }
  },
  {
   "cell_type": "markdown",
   "source": [
    "Integral is denoted by a stylish $\\int$ (remember it like Sum as we add slices)\n",
    "after the $\\int$ we place the function we want to find integral for it is called integrand.\n",
    "finally we put $dx$ to mean the slices go in the $x$ direction\n",
    "\n",
    "$\\int2xdx = x^2 + C$\n",
    "\n",
    "the $+C$ denoted constant of integration, as all the functions whose derivative is $2x$ like ($x^2 +4, x^2 +3$)"
   ],
   "metadata": {
    "collapsed": false
   }
  },
  {
   "cell_type": "markdown",
   "source": [
    "### Multivariable Chain Rule\n",
    "\n",
    "Suppose $x=g(u,v)$ and $y=h(u,v)$ are differentiable functions of $u$ and $v$, and $z=f(x,y)$ is a differentiable function of $x$ and $y$. Then, $z=f(g(u,v),h(u,v))$ is a differentiable function of $u$ and $v$, and\n",
    "\n",
    "$\\dfrac{∂z}{∂u}=\\dfrac{∂z}{∂x}\\dfrac{∂x}{∂u}+\\dfrac{∂z}{∂y}\\dfrac{∂y}{∂u}$\n",
    "\n",
    "$\\,$and\n",
    "\n",
    "$\\dfrac{∂z}{∂v}=\\dfrac{∂z}{∂x}\\dfrac{∂x}{∂v}+\\dfrac{∂z}{∂y}\\dfrac{∂y}{∂v}$\n"
   ],
   "metadata": {
    "collapsed": false
   }
  },
  {
   "cell_type": "markdown",
   "source": [
    "Calculate ∂z/∂u and ∂z/∂v using the following functions:\n",
    "\n",
    "$z=f(x,y)=3x^2−2xy+y^2,\\; x=x(u,v)=3u+2v,\\; y=y(u,v)=4u−v.$\n",
    "$\\,$\n",
    "Solution\n",
    "\n",
    "To implement the chain rule for two variables, we need six partial derivatives— $∂z/∂x,\\; ∂z/∂y,\\; ∂x/∂u,\\; ∂x/∂v,\\; ∂y/∂u, and ∂y/∂v:$\n",
    "\n",
    "\\begin{align*} \\dfrac{∂z}{∂x} &=6x−2y & & \\dfrac{∂z}{∂y}=−2x+2y \\\\[4pt] \\dfrac{∂x}{∂u} &=3 & & \\dfrac{∂x}{∂v}=2 \\\\[4pt] \\dfrac{∂y}{∂u} &=4 & & \\dfrac{∂y}{∂v}=−1. \\end{align*}\n",
    "To find ∂z/∂u, we use Equation \\ref{chain2a}:\n",
    "\n",
    "\\begin{align*} \\dfrac{∂z}{∂u} &=\\dfrac{∂z}{∂x}⋅\\dfrac{∂x}{∂u}+\\dfrac{∂z}{∂y}⋅\\dfrac{∂y}{∂u} \\\\[4pt] &=3(6x−2y)+4(−2x+2y) \\\\[4pt] &=10x+2y. \\end{align*}\n",
    "Next, we substitute x(u,v)=3u+2v and y(u,v)=4u−v:\n",
    "\\begin{align*} \\dfrac{∂z}{∂u} &=10x+2y \\\\[4pt] &=10(3u+2v)+2(4u−v) \\\\[4pt] &=38u+18v. \\end{align*}\n",
    "To find ∂z/∂v, we use Equation \\ref{chain2b}:\n",
    "\n",
    "\\begin{align*} \\dfrac{∂z}{∂v} &=\\dfrac{∂z}{∂x}\\dfrac{∂x}{∂v}+\\dfrac{∂z}{∂y}\\dfrac{∂y}{∂v} \\\\[4pt] &=2(6x−2y)+(−1)(−2x+2y) \\\\[4pt] &=14x−6y. \\end{align*}\n",
    "Then we substitute x(u,v)=3u+2v and y(u,v)=4u−v:\n",
    "\\begin{align*} \\dfrac{∂z}{∂v} &=14x−6y \\\\[4pt] &=14(3u+2v)−6(4u−v) \\\\[4pt] &=18u+34v \\end{align*}\n"
   ],
   "metadata": {
    "collapsed": false
   }
  },
  {
   "cell_type": "code",
   "execution_count": 3,
   "outputs": [],
   "source": [],
   "metadata": {
    "collapsed": false
   }
  }
 ],
 "metadata": {
  "kernelspec": {
   "display_name": "Python 3",
   "language": "python",
   "name": "python3"
  },
  "language_info": {
   "codemirror_mode": {
    "name": "ipython",
    "version": 2
   },
   "file_extension": ".py",
   "mimetype": "text/x-python",
   "name": "python",
   "nbconvert_exporter": "python",
   "pygments_lexer": "ipython2",
   "version": "2.7.6"
  }
 },
 "nbformat": 4,
 "nbformat_minor": 0
}
