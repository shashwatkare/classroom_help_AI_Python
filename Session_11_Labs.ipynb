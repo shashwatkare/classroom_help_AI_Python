{
 "cells": [
  {
   "cell_type": "markdown",
   "source": [
    "\n",
    "## Agenda\n",
    "- Vectors Lab\n",
    "- Linear Combination Lab\n",
    "- Linear Mapping Lab\n",
    "\n"
   ],
   "metadata": {
    "collapsed": false
   }
  },
  {
   "cell_type": "markdown",
   "source": [
    "## Vectors Lab\n",
    "\n",
    "We will learn to chart/graph 2D vectors and computations on them like multiplying vector by scalar, adding two 2D vectors & plotting them.\n",
    "\n",
    "We will be using NumPy for vector creation and Matplotlib for graph"
   ],
   "metadata": {
    "collapsed": false
   }
  },
  {
   "cell_type": "code",
   "execution_count": null,
   "outputs": [],
   "source": [
    "# import required packages\n",
    "!pip install numpy matplotlib\n",
    "\n",
    "import numpy as np\n",
    "# import matplotlib\n",
    "\n",
    "# matplotlib.use('TkAgg')\n",
    "# matplotlib.use('svg')\n",
    "import matplotlib.pyplot as plt"
   ],
   "metadata": {
    "collapsed": false
   }
  },
  {
   "cell_type": "code",
   "execution_count": null,
   "outputs": [],
   "source": [
    "\n",
    "# we will be creating a simple 2D vector aka 2D array\n",
    "vec = np.array([1, 1])\n",
    "\n",
    "# now to plot the above vector we need to create the plot\n",
    "axs = plt.axes()\n",
    "axs.plot(0, 0, 'oc')\n",
    "\n",
    "# let's create the arrow representing vector\n",
    "axs.arrow(0, 0, *vec, color='r', head_width=0.2, head_length=0.2, linewidth=2)\n",
    "\n",
    "# set the limits of the plot\n",
    "axs.set_xlim(-2, 2)\n",
    "axs.set_ylim(-1, 2)\n",
    "\n",
    "# setting major ticks\n",
    "axs.set_xticks(np.arange(-2, 2))\n",
    "axs.set_yticks(np.arange(-1, 3))\n",
    "\n",
    "# let's add some labels\n",
    "axs.set_xlabel('x')\n",
    "axs.set_ylabel('y', rotation=0)\n",
    "axs.set_title('2D Vector Plot')\n",
    "\n",
    "# let's add some grid\n",
    "axs.grid()\n",
    "\n",
    "# let's show the plot\n",
    "plt.show()\n"
   ],
   "metadata": {
    "collapsed": false
   }
  },
  {
   "cell_type": "markdown",
   "source": [
    "## Scaling a vector using a scalar\n",
    "\n",
    "As we have seen in previous sessions we can extend a vector by using a scalar value which is a Real number\n",
    "\n",
    "Let's take our previous vector and scalar as\n",
    "\n",
    "scal = 3\n",
    "\n",
    "#### Scalar operations\n",
    "##### Multiply vector by Scalar\n",
    "\n",
    "we will be creating a new vector scalvec which will be outcome of scalar and vector multiplication.\n",
    "\n"
   ],
   "metadata": {
    "collapsed": false
   }
  },
  {
   "cell_type": "code",
   "execution_count": null,
   "outputs": [],
   "source": [
    "# we will be creating a simple 2D vector aka 2D array\n",
    "vec = np.array([1, 1])\n",
    "\n",
    "# we create a scalar\n",
    "scal = 3\n",
    "\n",
    "# we can get a new vector by multiplying scalar and our vector\n",
    "scalvec = scal * vec\n",
    "\n",
    "# now to plot the above vector we need to create the plot\n",
    "axs = plt.axes()\n",
    "axs.plot(0, 0, 'ob')\n",
    "\n",
    "# let's create the arrow representing vector\n",
    "axs.arrow(0, 0, *vec, color='r', head_width=0.2, head_length=0.2, linewidth=2)\n",
    "# we can plot new vector with dotted line showing extension\n",
    "axs.arrow(0, 0, *scalvec, linestyle='dotted', color='y', head_width=0.2, head_length=0.2, linewidth=2)\n",
    "\n",
    "\n",
    "# swe need to extend the limits to accomadate new vector\n",
    "axs.set_xlim(-2, 4)\n",
    "axs.set_ylim(-1, 4)\n",
    "\n",
    "# same for ticks on both axis they should be extended\n",
    "axs.set_xticks(np.arange(-2, 4))\n",
    "axs.set_yticks(np.arange(-1, 4))\n",
    "\n",
    "# let's add some labels\n",
    "axs.set_xlabel('x')\n",
    "axs.set_ylabel('y', rotation=0)\n",
    "axs.set_title('2D Vector Plot')\n",
    "\n",
    "# let's add some grid\n",
    "axs.grid()\n",
    "\n",
    "# let's show the plot\n",
    "plt.show()\n"
   ],
   "metadata": {
    "collapsed": false
   }
  },
  {
   "cell_type": "markdown",
   "source": [
    "#### Adding two vector together\n"
   ],
   "metadata": {
    "collapsed": false
   }
  },
  {
   "cell_type": "code",
   "execution_count": null,
   "outputs": [],
   "source": [
    "# we define vector v\n",
    "v = np.array([1, 1])\n",
    "\n",
    "# define vector w\n",
    "w = np.array([-2, 2])\n",
    "\n",
    "# create a graph for plotting vectors\n",
    "axs = plt.axes()\n",
    "\n",
    "# start from 0,0 as origin\n",
    "axs.plot(0,0, 'oy')\n",
    "\n",
    "# let's plot out first vector\n",
    "axs.arrow(0, 0, *v, color='r', linewidth=2, head_width=0.2, head_length=0.2)\n",
    "\n",
    "# let's plot second vector on different color arrow\n",
    "axs.arrow(0, 0, *w, color='c', linewidth=2, head_width=0.2, head_length=0.2)\n",
    "\n",
    "# swe need to extend the limits to accommodate new vector\n",
    "axs.set_xlim(-3, 2)\n",
    "axs.set_ylim(-1, 4)\n",
    "\n",
    "# same for ticks on both axis they should be extended\n",
    "axs.set_xticks(np.arange(-3, 2))\n",
    "axs.set_yticks(np.arange(-1, 4))\n",
    "\n",
    "# let's add some labels\n",
    "axs.set_xlabel('x')\n",
    "axs.set_ylabel('y', rotation=0)\n",
    "axs.set_title('2D Vector Plot')\n",
    "\n",
    "# let's add some grid\n",
    "axs.grid(visible=True)\n",
    "\n",
    "# let's show the plot\n",
    "plt.show()\n"
   ],
   "metadata": {
    "collapsed": false
   }
  },
  {
   "cell_type": "markdown",
   "source": [
    "Now we can also represent this vector addition in a different way.\n",
    "By changing the origin of vector w we can get our new vector output\n"
   ],
   "metadata": {
    "collapsed": false
   }
  },
  {
   "cell_type": "code",
   "execution_count": null,
   "outputs": [],
   "source": [
    "# we define vector v\n",
    "v = np.array([1, 1])\n",
    "\n",
    "# define vector w\n",
    "w = np.array([-2, 2])\n",
    "\n",
    "# create a graph for plotting vectors\n",
    "axs = plt.axes()\n",
    "\n",
    "# start from 0,0 as origin\n",
    "axs.plot(0,0, 'oy')\n",
    "\n",
    "# let's plot out first vector\n",
    "axs.arrow(0, 0, *v, color='r', linewidth=2, head_width=0.2, head_length=0.2)\n",
    "\n",
    "# here we will change origin from 0,0 to vector v co-ordinates\n",
    "axs.arrow(v[0], v[1], *w, linestyle='dotted', color='c', linewidth=2, head_width=0.2, head_length=0.2)\n",
    "\n",
    "# now we can add both the vectors to get our new vector\n",
    "wv = w + v\n",
    "\n",
    "# let's plot this new vector same way\n",
    "axs.arrow(0,0, *wv, color='y', linewidth=2, head_width=0.2, head_length=0.2)\n",
    "\n",
    "# swe need to extend the limits to accommodate new vector\n",
    "axs.set_xlim(-3, 2)\n",
    "axs.set_ylim(-1, 4)\n",
    "\n",
    "# same for ticks on both axis they should be extended\n",
    "axs.set_xticks(np.arange(-3, 2))\n",
    "axs.set_yticks(np.arange(-1, 4))\n",
    "\n",
    "# let's add some labels\n",
    "axs.set_xlabel('x')\n",
    "axs.set_ylabel('y', rotation=0)\n",
    "axs.set_title('2D Vector Plot')\n",
    "\n",
    "# let's add some grid\n",
    "axs.grid(visible=True)\n",
    "\n",
    "# let's show the plot\n",
    "plt.show()\n"
   ],
   "metadata": {
    "collapsed": false
   }
  },
  {
   "cell_type": "markdown",
   "source": [
    "## Linear Combination\n",
    "\n",
    "We will be using NumPy and linalg packages to solve system of linear equations through python.\n",
    "\n",
    "As we learned in last session about vector's span - to refresh\n",
    "\n",
    "if given two vectors v and w set of all possible vectors that you can reach with a linear combination of given pair is called\n",
    "span of these two vectors.\n",
    "\n",
    "suppose the third vector is t within v & w vector span, then we can write a linear combination equation as\n",
    "\n",
    "av + bw = t >> here a, b are a scalars which produce vector t\n",
    "\n",
    "Now lets see how to solve this using python\n"
   ],
   "metadata": {
    "collapsed": false
   }
  },
  {
   "cell_type": "code",
   "execution_count": 9,
   "outputs": [
    {
     "data": {
      "text/plain": "'If we have following vectors'"
     },
     "metadata": {},
     "output_type": "display_data"
    },
    {
     "data": {
      "text/plain": "<IPython.core.display.Math object>",
      "text/latex": "$\\displaystyle \\vec{v} = \\begin{bmatrix} 1\\\\ 3\\end{bmatrix} \\hspace{0.3cm}\\vec{w} = \\begin{bmatrix} 2\\\\ 5\\end{bmatrix} \\hspace{0.3cm}\\vec{t} = \\begin{bmatrix} 4\\\\ 11\\end{bmatrix}$"
     },
     "metadata": {},
     "output_type": "display_data"
    }
   ],
   "source": [
    "from IPython.display import Math, display\n",
    "def ret_latex(io_text: str, raw=None):\n",
    "    if not raw:\n",
    "        dis_res = display(Math(rf'{io_text}'))\n",
    "    else:\n",
    "        dis_res = display(io_text)\n",
    "    return dis_res\n",
    "\n",
    "\n",
    "ret_latex(r\"If we have following vectors\", True)\n",
    "ret_latex(r'\\vec{v} = \\begin{bmatrix} 1\\\\ 3\\end{bmatrix} \\hspace{0.3cm}\\vec{w} = \\begin{bmatrix} 2\\\\ 5\\end{bmatrix} \\hspace{0.3cm}\\vec{t} = \\begin{bmatrix} 4\\\\ 11\\end{bmatrix}')\n"
   ],
   "metadata": {
    "collapsed": false
   }
  },
  {
   "cell_type": "code",
   "execution_count": 10,
   "outputs": [
    {
     "data": {
      "text/plain": "'now we can write our linear combination equation'"
     },
     "metadata": {},
     "output_type": "display_data"
    },
    {
     "data": {
      "text/plain": "<IPython.core.display.Math object>",
      "text/latex": "$\\displaystyle a\\vec{v} + b\\vec{w} = \\vec{t}$"
     },
     "metadata": {},
     "output_type": "display_data"
    },
    {
     "data": {
      "text/plain": "'in this form'"
     },
     "metadata": {},
     "output_type": "display_data"
    },
    {
     "data": {
      "text/plain": "<IPython.core.display.Math object>",
      "text/latex": "$\\displaystyle a \\begin{bmatrix} 1\\\\ 3\\end{bmatrix} + b \\begin{bmatrix} 2\\\\ 5\\end{bmatrix} = \\begin{bmatrix} 4\\\\ 11\\end{bmatrix}$"
     },
     "metadata": {},
     "output_type": "display_data"
    },
    {
     "data": {
      "text/plain": "'we can get augumented matrix'"
     },
     "metadata": {},
     "output_type": "display_data"
    },
    {
     "data": {
      "text/plain": "<IPython.core.display.Math object>",
      "text/latex": "$\\displaystyle \n\\left[\n\\begin{array}{cc|c}\n1 & 2  & 4 \\\\\n3 & 5 & 11 \\\\\n\\end{array}\n\\right]$"
     },
     "metadata": {},
     "output_type": "display_data"
    }
   ],
   "source": [
    "\n",
    "ret_latex(r\"now we can write our linear combination equation\", True)\n",
    "ret_latex(r'a\\vec{v} + b\\vec{w} = \\vec{t}')\n",
    "\n",
    "ret_latex(r\"in this form\", True)\n",
    "ret_latex(r'a \\begin{bmatrix} 1\\\\ 3\\end{bmatrix} + b \\begin{bmatrix} 2\\\\ 5\\end{bmatrix} = \\begin{bmatrix} 4\\\\ 11\\end{bmatrix}')\n",
    "\n",
    "ret_latex(r'we can get augumented matrix', True)\n",
    "ret_latex(r'''\n",
    "\\left[\n",
    "\\begin{array}{cc|c}\n",
    "1 & 2  & 4 \\\\\n",
    "3 & 5 & 11 \\\\\n",
    "\\end{array}\n",
    "\\right]''')"
   ],
   "metadata": {
    "collapsed": false
   }
  },
  {
   "cell_type": "markdown",
   "source": [
    "#### Span Computation\n"
   ],
   "metadata": {
    "collapsed": false
   }
  },
  {
   "cell_type": "code",
   "execution_count": 12,
   "outputs": [
    {
     "name": "stdout",
     "output_type": "stream",
     "text": [
      "\n",
      "Matrix vw:\n",
      "[[1 2]\n",
      " [3 5]]\n",
      "\n",
      "Vector t: [ 4 11]\n"
     ]
    }
   ],
   "source": [
    "import numpy as np\n",
    "\n",
    "# let's create the matrix on left side\n",
    "vw = np.array([[1,2], [3,5]])\n",
    "\n",
    "# then the right side of augmented matrix\n",
    "t = np.array([4, 11])\n",
    "\n",
    "print(f\"\\nMatrix vw:\\n{vw}\\n\\nVector t: {t}\")"
   ],
   "metadata": {
    "collapsed": false
   }
  },
  {
   "cell_type": "code",
   "execution_count": 14,
   "outputs": [
    {
     "name": "stdout",
     "output_type": "stream",
     "text": [
      "\n",
      "Vector is within span.\n",
      "Scalars are: [2. 1.]\n"
     ]
    }
   ],
   "source": [
    "\n",
    "# set_of_vectors = left side of augmented matrix\n",
    "# vectors_to_check = right side of matrix\n",
    "# print(vw.shape)\n",
    "\n",
    "def check_vector_span(set_of_vectors, vector_to_check):\n",
    "    # start by creating an empty vector matching size of given vector set\n",
    "    # we can call shape on input vector and get first element to know dimension of vector\n",
    "    # print(set_of_vectors.shape)\n",
    "    vector_of_scalars = np.asarray([None]*set_of_vectors.shape[0])\n",
    "\n",
    "    # we are using try except to handle cond if vectors are in span or out\n",
    "    try:\n",
    "        # we can simply provide linalg.solve function input parameters\n",
    "        vector_of_scalars = np.linalg.solve(set_of_vectors, vector_to_check)\n",
    "        # if scalars are not None\n",
    "        if vector_of_scalars is not None:\n",
    "            print(f\"\\nVector is within span.\\nScalars are: {vector_of_scalars}\")\n",
    "\n",
    "    # Handles the cases when the vector is NOT within the span\n",
    "    # based on Exception class we get - can print custom messages\n",
    "    except Exception as exception_type:\n",
    "        if str(exception_type) == \"Singular matrix\":\n",
    "            print(\"\\nNo single solution\\nVector is NOT within span\")\n",
    "        else:\n",
    "            print(f\"\\nUnexpected Exception Error: {exception_type}\")\n",
    "    return vector_of_scalars\n",
    "\n",
    "result = check_vector_span(set_of_vectors=vw, vector_to_check=t)\n"
   ],
   "metadata": {
    "collapsed": false
   }
  },
  {
   "cell_type": "markdown",
   "source": [
    "## System of Equations\n",
    "\n",
    "Above we solved the equations using scalar as a and b - for creating system of equation out of linear combination equation\n",
    "\n"
   ],
   "metadata": {
    "collapsed": false
   }
  },
  {
   "cell_type": "code",
   "execution_count": 15,
   "outputs": [
    {
     "data": {
      "text/plain": "<IPython.core.display.Math object>",
      "text/latex": "$\\displaystyle a\\vec{v} + b\\vec{w} = \\vec{t}$"
     },
     "metadata": {},
     "output_type": "display_data"
    },
    {
     "data": {
      "text/plain": "'which can be represented as'"
     },
     "metadata": {},
     "output_type": "display_data"
    },
    {
     "data": {
      "text/plain": "<IPython.core.display.Math object>",
      "text/latex": "$\\displaystyle a \\begin{bmatrix} 1\\\\ 3\\end{bmatrix} + b \\begin{bmatrix} 2\\\\ 5\\end{bmatrix} = \\begin{bmatrix} 4\\\\ 11\\end{bmatrix}$"
     },
     "metadata": {},
     "output_type": "display_data"
    },
    {
     "data": {
      "text/plain": "'It can be casted using system equations as'"
     },
     "metadata": {},
     "output_type": "display_data"
    },
    {
     "data": {
      "text/plain": "<IPython.core.display.Math object>",
      "text/latex": "$\\displaystyle \\begin{array}{rcl} x + 2y & = & 4 \\\\ 3x + 5y  & = & 11 \\end{array}$"
     },
     "metadata": {},
     "output_type": "display_data"
    }
   ],
   "source": [
    "\n",
    "ret_latex(r'a\\vec{v} + b\\vec{w} = \\vec{t}')\n",
    "ret_latex(r'which can be represented as', True)\n",
    "ret_latex(r'a \\begin{bmatrix} 1\\\\ 3\\end{bmatrix} + b \\begin{bmatrix} 2\\\\ 5\\end{bmatrix} = \\begin{bmatrix} 4\\\\ 11\\end{bmatrix}')\n",
    "\n",
    "ret_latex(r'It can be casted using system equations as', True)\n",
    "ret_latex(r'\\begin{array}{rcl} x + 2y & = & 4 \\\\ 3x + 5y  & = & 11 \\end{array}')\n",
    "# where x=2, y=1 as we found out through our function"
   ],
   "metadata": {
    "collapsed": false
   }
  },
  {
   "cell_type": "code",
   "execution_count": 17,
   "outputs": [
    {
     "data": {
      "text/plain": "<Figure size 640x480 with 1 Axes>",
      "image/png": "[encoded data removed]"
     },
     "metadata": {},
     "output_type": "display_data"
    }
   ],
   "source": [
    "# if we recall session where we solved system of equations and plotted them on graph\n",
    "# we can get x and y coordintes by solving these two equations and plot them on graph.\n",
    "\n",
    "import matplotlib.pyplot as plt\n",
    "plt.plot([4,0],[0,2],'b',linewidth=3)\n",
    "plt.plot([3.6667,0],[0,2.2],'c-.',linewidth=3)\n",
    "plt.plot([2],[1],'oy',linewidth=3)\n",
    "plt.xlabel('Single Solution')\n",
    "plt.show()\n"
   ],
   "metadata": {
    "collapsed": false
   }
  },
  {
   "cell_type": "markdown",
   "source": [
    "## Visualizing Matrix Multiplication\n"
   ],
   "metadata": {
    "collapsed": false
   }
  },
  {
   "cell_type": "code",
   "execution_count": 18,
   "outputs": [
    {
     "data": {
      "text/plain": "\"You also learned that you can tranform a vector by multiplying that vector's  𝑥  and  𝑦  values by the transformed basis vectors,  𝑖𝑇^  and  𝑗𝑇^ , summing their results\""
     },
     "metadata": {},
     "output_type": "display_data"
    },
    {
     "data": {
      "text/plain": "<IPython.core.display.Math object>",
      "text/latex": "$\\displaystyle {transformed } \\vec{v} = x\\mathbin{\\color{green}{\\hat{i_T}}} +\\, y\\, \\mathbin{\\color{red}{\\hat{j_T}}}$"
     },
     "metadata": {},
     "output_type": "display_data"
    }
   ],
   "source": [
    "ret_latex(r'''You also learned that you can tranform a vector by multiplying that vector's  𝑥  and  𝑦  values by the transformed basis vectors,  𝑖𝑇^  and  𝑗𝑇^ , summing their results''', True)\n",
    "ret_latex(r'{transformed } \\vec{v} = x\\mathbin{\\color{green}{\\hat{i_T}}} +\\, y\\, \\mathbin{\\color{red}{\\hat{j_T}}}')\n"
   ],
   "metadata": {
    "collapsed": false
   }
  },
  {
   "cell_type": "markdown",
   "source": [
    "#### Graphing decomposed vector v into basis i hat and j hat"
   ],
   "metadata": {
    "collapsed": false
   }
  },
  {
   "cell_type": "code",
   "execution_count": 28,
   "outputs": [
    {
     "data": {
      "text/plain": "<Figure size 640x480 with 1 Axes>",
      "image/png": "[encoded data removed]"
     },
     "metadata": {},
     "output_type": "display_data"
    }
   ],
   "source": [
    "# define vector v\n",
    "v = np.array([-1, 2])\n",
    "\n",
    "# define basis vectors with unit vectors\n",
    "i_hat = np.array([1,0])\n",
    "j_hat = np.array([0,1])\n",
    "\n",
    "# we will multiply basis vector to vector coordinate\n",
    "vi_hat = v[0] * i_hat\n",
    "vj_hat = v[1] * j_hat\n",
    "\n",
    "# now let's start plotting them on graph\n",
    "ax = plt.axes()\n",
    "\n",
    "# start with origin with red dot\n",
    "ax.plot(0,0,'or')\n",
    "\n",
    "# we will start plotting all vectors now\n",
    "# let's put our vector v\n",
    "ax.arrow(0, 0, *v, color='b', linewidth=2.5, head_width=0.30, head_length=0.35)\n",
    "# vi_hat with dotted green line\n",
    "ax.arrow(0, 0, *vi_hat, color='g', linestyle='dotted', linewidth=2.5, head_width=0.30, head_length=0.35)\n",
    "# now using vi_hat's coordinates as origin plot vj_hat\n",
    "ax.arrow(vi_hat[0], vi_hat[1], *vj_hat, color='r', linestyle='dotted', linewidth=2.5, head_width=0.30, head_length=0.35)\n",
    "\n",
    "# set limits, ticks and labels\n",
    "plt.xlim(-3, 2)\n",
    "plt.ylim(-2, 3)\n",
    "\n",
    "ax.set_xticks(np.arange(-3, 2))\n",
    "ax.set_yticks(np.arange(-2, 3))\n",
    "\n",
    "ax.set_xlabel('x')\n",
    "ax.set_ylabel('y', rotation=0)\n",
    "ax.set_title('Decomposed vector')\n",
    "\n",
    "plt.grid(visible=True)\n",
    "\n",
    "# Displays final plot\n",
    "plt.show()\n"
   ],
   "metadata": {
    "collapsed": false
   }
  },
  {
   "cell_type": "markdown",
   "source": [
    "## Matrix Multiplication\n"
   ],
   "metadata": {
    "collapsed": false
   }
  },
  {
   "cell_type": "code",
   "execution_count": 20,
   "outputs": [
    {
     "data": {
      "text/plain": "<IPython.core.display.Math object>",
      "text/latex": "$\\displaystyle \\hspace{1cm}\\vec{v} = \\begin{bmatrix} -1\\\\ 2\\end{bmatrix}\\hspace{1cm}\\vec{ij} = \\begin{bmatrix} \\mathbin{\\color{green}3} & \\mathbin{\\color{red}1}\\\\ \\mathbin{\\color{green}1} & \\mathbin{\\color{red}2}\\end{bmatrix}$"
     },
     "metadata": {},
     "output_type": "display_data"
    }
   ],
   "source": [
    "ret_latex(r'\\hspace{1cm}\\vec{v} = \\begin{bmatrix} -1\\\\ 2\\end{bmatrix}\\hspace{1cm}\\vec{ij} = \\begin{bmatrix} \\mathbin{\\color{green}3} & \\mathbin{\\color{red}1}\\\\ \\mathbin{\\color{green}1} & \\mathbin{\\color{red}2}\\end{bmatrix}')"
   ],
   "metadata": {
    "collapsed": false
   }
  },
  {
   "cell_type": "code",
   "execution_count": 21,
   "outputs": [
    {
     "name": "stdout",
     "output_type": "stream",
     "text": [
      "\n",
      "Matrix ij: \n",
      "[[3 1]\n",
      " [1 2]] \n",
      "Vector v: \n",
      "[-1  2] \n",
      "Transformed Vector v_t: \n",
      "[-1  3]\n"
     ]
    }
   ],
   "source": [
    "# let's define vector v\n",
    "v = np.array([-1,2])\n",
    "\n",
    "#define 2 by 2 matrix ij\n",
    "ij = np.array([[3,1],[1,2]])\n",
    "\n",
    "# by using matmul function to multiply 2x2 matrix ij by vector v\n",
    "# to compute the transformed vector v (v_t)\n",
    "v_t = np.matmul(ij, v)\n",
    "\n",
    "print(f\"\\nMatrix ij: \\n{ij} \\nVector v: \\n{v} \\nTransformed Vector v_t: \\n{v_t}\")\n"
   ],
   "metadata": {
    "collapsed": false
   }
  },
  {
   "cell_type": "markdown",
   "source": [
    "#### Currency Converter\n",
    "\n",
    "You want convert all your local currency into the currency local of the place you will be traveling to.\n",
    "\n",
    "AS shown in below image - think it as you have vector of currency you have leftover\n",
    "also you have matrix of conversion weights\n",
    "when you do a multiplication of vector to the matrix - we will get the correct conversion money in the local currency.\n"
   ],
   "metadata": {
    "collapsed": false
   }
  },
  {
   "cell_type": "markdown",
   "source": [
    "![](currencyProbImage.png)"
   ],
   "metadata": {
    "collapsed": false
   }
  },
  {
   "cell_type": "code",
   "execution_count": 35,
   "outputs": [
    {
     "name": "stdout",
     "output_type": "stream",
     "text": [
      "Inputs Vector:\n"
     ]
    },
    {
     "data": {
      "text/plain": "     Amounts\nUSD       70\nEUR      100\nJPY       20\nGBP       80\nCHF       40\nCAD       70\nAUD       60\nHKD      100",
      "text/html": "<div>\n<style scoped>\n    .dataframe tbody tr th:only-of-type {\n        vertical-align: middle;\n    }\n\n    .dataframe tbody tr th {\n        vertical-align: top;\n    }\n\n    .dataframe thead th {\n        text-align: right;\n    }\n</style>\n<table border=\"1\" class=\"dataframe\">\n  <thead>\n    <tr style=\"text-align: right;\">\n      <th></th>\n      <th>Amounts</th>\n    </tr>\n  </thead>\n  <tbody>\n    <tr>\n      <th>USD</th>\n      <td>70</td>\n    </tr>\n    <tr>\n      <th>EUR</th>\n      <td>100</td>\n    </tr>\n    <tr>\n      <th>JPY</th>\n      <td>20</td>\n    </tr>\n    <tr>\n      <th>GBP</th>\n      <td>80</td>\n    </tr>\n    <tr>\n      <th>CHF</th>\n      <td>40</td>\n    </tr>\n    <tr>\n      <th>CAD</th>\n      <td>70</td>\n    </tr>\n    <tr>\n      <th>AUD</th>\n      <td>60</td>\n    </tr>\n    <tr>\n      <th>HKD</th>\n      <td>100</td>\n    </tr>\n  </tbody>\n</table>\n</div>"
     },
     "execution_count": 35,
     "metadata": {},
     "output_type": "execute_result"
    }
   ],
   "source": [
    "import numpy as np\n",
    "import pandas as pd\n",
    "\n",
    "# Creates numpy vector from a list to represent money (inputs) vector.\n",
    "money = np.asarray([70, 100, 20, 80, 40, 70, 60, 100])\n",
    "\n",
    "# Creates pandas dataframe with column labels(currency_label) from the numpy vector for printing.\n",
    "currency_label = [\"USD\", \"EUR\", \"JPY\", \"GBP\", \"CHF\", \"CAD\", \"AUD\", \"HKD\"]\n",
    "\n",
    "if len(money) == len(currency_label):\n",
    "    money_df = pd.DataFrame(data=money, index=currency_label, columns=[\"Amounts\"])\n",
    "else:\n",
    "    print(\"Len no match\")\n",
    "print(\"Inputs Vector:\")\n",
    "money_df\n"
   ],
   "metadata": {
    "collapsed": false
   }
  },
  {
   "cell_type": "code",
   "execution_count": 26,
   "outputs": [
    {
     "data": {
      "text/plain": "                  USD     EUR       JPY      GBP      CHF      CAD      AUD  \\\nMoney Totals  454.277  379.96  50593.59  336.338  444.326  570.034  579.667   \n\n                   HKD  \nMoney Totals  3553.307  ",
      "text/html": "<div>\n<style scoped>\n    .dataframe tbody tr th:only-of-type {\n        vertical-align: middle;\n    }\n\n    .dataframe tbody tr th {\n        vertical-align: top;\n    }\n\n    .dataframe thead th {\n        text-align: right;\n    }\n</style>\n<table border=\"1\" class=\"dataframe\">\n  <thead>\n    <tr style=\"text-align: right;\">\n      <th></th>\n      <th>USD</th>\n      <th>EUR</th>\n      <th>JPY</th>\n      <th>GBP</th>\n      <th>CHF</th>\n      <th>CAD</th>\n      <th>AUD</th>\n      <th>HKD</th>\n    </tr>\n  </thead>\n  <tbody>\n    <tr>\n      <th>Money Totals</th>\n      <td>454.277</td>\n      <td>379.96</td>\n      <td>50593.59</td>\n      <td>336.338</td>\n      <td>444.326</td>\n      <td>570.034</td>\n      <td>579.667</td>\n      <td>3553.307</td>\n    </tr>\n  </tbody>\n</table>\n</div>"
     },
     "execution_count": 26,
     "metadata": {},
     "output_type": "execute_result"
    }
   ],
   "source": [
    "# Sets path variable to the 'path' of the CSV file that contains the conversion rates(weights) matrix.\n",
    "path = %pwd\n",
    "# print(path)\n",
    "\n",
    "# Imports conversion rates(weights) matrix as a pandas dataframe.\n",
    "conversion_rates_df = pd.read_csv(path+\"/currencyConversionMatrix.csv\",header=0,index_col=0)\n",
    "# print(conversion_rates_df)\n",
    "# Creates numpy matrix from a pandas dataframe to create the conversion rates(weights) matrix.\n",
    "conversion_rates = conversion_rates_df.values  # will give us a 2d array\n",
    "# print(conversion_rates)\n",
    "\n",
    "# TODO 1.: Calculates the money totals(outputs) vector using matrix multiplication in numpy.\n",
    "# here money is a 1D array and conversion_rates is 2D array\n",
    "money_totals = np.matmul(money, conversion_rates)\n",
    "# print(money_totals)\n",
    "\n",
    "# Converts the resulting money totals vector into a dataframe for printing.\n",
    "money_totals_df = pd.DataFrame(data = money_totals, index = currency_label, columns = [\"Money Totals\"])\n",
    "\n",
    "money_totals_df.T\n"
   ],
   "metadata": {
    "collapsed": false
   }
  },
  {
   "cell_type": "code",
   "execution_count": null,
   "outputs": [],
   "source": [],
   "metadata": {
    "collapsed": false
   }
  }
 ],
 "metadata": {
  "kernelspec": {
   "display_name": "Python 3",
   "language": "python",
   "name": "python3"
  },
  "language_info": {
   "codemirror_mode": {
    "name": "ipython",
    "version": 2
   },
   "file_extension": ".py",
   "mimetype": "text/x-python",
   "name": "python",
   "nbconvert_exporter": "python",
   "pygments_lexer": "ipython2",
   "version": "2.7.6"
  }
 },
 "nbformat": 4,
 "nbformat_minor": 0
}
