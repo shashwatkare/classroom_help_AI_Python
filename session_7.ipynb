{
 "cells": [
  {
   "cell_type": "markdown",
   "source": [
    "# Intro to Pandas\n"
   ],
   "metadata": {
    "collapsed": false
   }
  },
  {
   "cell_type": "markdown",
   "source": [
    "### What is pandas?"
   ],
   "metadata": {
    "collapsed": false
   }
  },
  {
   "cell_type": "markdown",
   "source": [
    "pandas is a python library for data analysis and manipulation.\n",
    "Pandas provides two additional data structures to python, namely series and dataframe.\n",
    "these two data structures helps us to work on labeled and relational data."
   ],
   "metadata": {
    "collapsed": false
   }
  },
  {
   "cell_type": "markdown",
   "source": [
    "### Why use Pandas?"
   ],
   "metadata": {
    "collapsed": false
   }
  },
  {
   "cell_type": "markdown",
   "source": [
    "To achieve most efficient results in AI & ML space we need to work on large datasets,\n",
    "but it is just not about quantity but also about quality of data.\n",
    "pandas helps us to work on large datasets and also helps us to clean and prepare the data for further analysis.\n",
    "and for every training algorithm the data needs to be in a particular format, clear of any outliers.\n",
    "pandas helps us to achieve that.\n",
    "\n",
    "Other advantages are following:\n",
    "\n",
    "   - Allows the use of labels for rows and columns\n",
    "   - Can calculate rolling statistics on time series data\n",
    "   - Easy handling of NaN values\n",
    "   - Is able to load data of different formats into DataFrames\n",
    "   - Can join and merge different datasets together\n",
    "   - It integrates with NumPy and Matplotlib"
   ],
   "metadata": {
    "collapsed": false
   }
  },
  {
   "cell_type": "markdown",
   "source": [
    "### pandas series"
   ],
   "metadata": {
    "collapsed": false
   }
  },
  {
   "cell_type": "markdown",
   "source": [
    "#### what is pandas series?"
   ],
   "metadata": {
    "collapsed": false
   }
  },
  {
   "cell_type": "markdown",
   "source": [
    "pandas series is a one-dimensional labeled array capable of holding data of any type(integer, string, float, python objects, etc.).\n",
    "The axis labels are collectively called index.\n",
    "\n",
    "Pandas series can be created using various inputs like −\n",
    "Array\n",
    "dict\n",
    "scalar value or constant"
   ],
   "metadata": {
    "collapsed": false
   }
  },
  {
   "cell_type": "markdown",
   "source": [
    "#### what is the difference between numpy array and pandas series?\n"
   ],
   "metadata": {
    "collapsed": false
   }
  },
  {
   "cell_type": "markdown",
   "source": [
    "In pandas series, the index is not just an integer but can be any value like string, integer, float, etc.\n",
    "numpy array is a collection of items of the same type and pandas series is a collection of items of different types.\n"
   ],
   "metadata": {
    "collapsed": false
   }
  },
  {
   "cell_type": "markdown",
   "source": [
    "### Creating Pandas Series\n"
   ],
   "metadata": {
    "collapsed": false
   }
  },
  {
   "cell_type": "code",
   "execution_count": null,
   "outputs": [],
   "source": [
    "# conda install pandas\n",
    "# pip install pandas\n",
    "\n",
    "import pandas as pd\n",
    "import numpy as np\n",
    "\n",
    "# create a pandas series using a python list\n",
    "# series = pd.Series([1, 2, 3, 4, 5])\n",
    "# print(series)\n",
    "#\n",
    "# # # create a pandas series using a numpy array\n",
    "# series = pd.Series(np.array([1, 2, 3, 4, 5]))\n",
    "# # series\n",
    "# print(series)\n",
    "#\n",
    "# # create a pandas series using a python dictionary\n",
    "# series = pd.Series({'a': 1, 'b': 2, 'c': 3, 'd': 4, 'e': 5})\n",
    "# print(series)\n",
    "#\n",
    "# # create a pandas series using a python list and specify the index\n",
    "# series = pd.Series([1, 2, 3, 4, 5], index=['apple', 'banana', 'carrot', 'dates', 'egg'])\n",
    "# print(series)\n",
    "#\n",
    "# # create a pandas series using a numpy array and specify the index\n",
    "# series = pd.Series(np.array([1, 2, 3, 4, 5]), index=['apple', 'banana', 'carrot', 'dates', 'egg'])\n",
    "# print(series)\n"
   ],
   "metadata": {
    "collapsed": false
   }
  },
  {
   "cell_type": "markdown",
   "source": [
    "#### Pandas series also comes with attributes\n"
   ],
   "metadata": {
    "collapsed": false
   }
  },
  {
   "cell_type": "code",
   "execution_count": null,
   "outputs": [],
   "source": [
    "series = pd.Series([1, 2, 3, 4, 5], index=['apple', 'banana', 'carrot', 'dates', 'egg'])\n",
    "print(series.shape)\n",
    "print(series.ndim)\n",
    "print(series.size)\n",
    "print(series.values)\n",
    "print(series.index)\n"
   ],
   "metadata": {
    "collapsed": false
   }
  },
  {
   "cell_type": "markdown",
   "source": [
    "#### Accessing and deleting elements in pandas series\n"
   ],
   "metadata": {
    "collapsed": false
   }
  },
  {
   "cell_type": "code",
   "execution_count": null,
   "outputs": [],
   "source": [
    "series = pd.Series([1, 2, 3, 4, 5], index=['apple', 'banana', 'carrot', 'dates', 'egg'])\n",
    "# print(series[0])\n",
    "# print(series['carrot'])\n",
    "series.iloc[[2, 3]]\n",
    "# series.iloc[['apple', 'egg']]"
   ],
   "metadata": {
    "collapsed": false
   }
  },
  {
   "cell_type": "markdown",
   "source": [
    "#### change elements in a panda series\n"
   ],
   "metadata": {
    "collapsed": false
   }
  },
  {
   "cell_type": "code",
   "execution_count": null,
   "outputs": [],
   "source": [
    "series = pd.Series([1, 2, 3, 4, 5], index=['apple', 'banana', 'carrot', 'dates', 'egg'])\n",
    "series[0] = 10\n",
    "print(series,'\\n')\n",
    "\n",
    "print('after change', '\\n')\n",
    "\n",
    "series['apple'] = 20\n",
    "print(series)\n"
   ],
   "metadata": {
    "collapsed": false
   }
  },
  {
   "cell_type": "markdown",
   "source": [
    "#### deleting elements using del\n"
   ],
   "metadata": {
    "collapsed": false
   }
  },
  {
   "cell_type": "code",
   "execution_count": null,
   "outputs": [],
   "source": [
    "series = pd.Series([1, 2, 3, 4, 5], index=['apple', 'banana', 'carrot', 'dates', 'egg'])\n",
    "print(series,'\\n')\n",
    "\n",
    "print('after change', '\\n')\n",
    "del series['apple']\n",
    "print(series)\n"
   ],
   "metadata": {
    "collapsed": false
   }
  },
  {
   "cell_type": "markdown",
   "source": [
    "#### delete element using drop"
   ],
   "metadata": {
    "collapsed": false
   }
  },
  {
   "cell_type": "code",
   "execution_count": null,
   "outputs": [],
   "source": [
    "## out-of-place drop\n",
    "\n",
    "series = pd.Series([1, 2, 3, 4, 5], index=['apple', 'banana', 'carrot', 'dates', 'egg'])\n",
    "print(series,'\\n')\n",
    "\n",
    "print('after change', '\\n')\n",
    "series.drop(\"egg\")\n",
    "print(series)\n",
    "\n",
    "## in-place drop\n",
    "print('\\n','in-place drop', '\\n')\n",
    "\n",
    "series = pd.Series([1, 2, 3, 4, 5], index=['apple', 'banana', 'carrot', 'dates', 'egg'])\n",
    "print(series,'\\n')\n",
    "\n",
    "print('after change', '\\n')\n",
    "series.drop('egg', inplace=True)\n",
    "print(series)\n"
   ],
   "metadata": {
    "collapsed": false
   }
  },
  {
   "cell_type": "markdown",
   "source": [
    "#### Arithmetic operations in pandas series"
   ],
   "metadata": {
    "collapsed": false
   }
  },
  {
   "cell_type": "code",
   "execution_count": null,
   "outputs": [],
   "source": [
    "series1 = pd.Series([1, 2, 3, 4, 5], index=['apple', 'banana', 'carrot', 'dates', 'egg'])\n",
    "series2 = pd.Series([1, 2, 3, 4, 5], index=['apple', 'banana', 'carrot', 'dates', 'egg'])\n",
    "print(series1 + series2)\n",
    "print(series1 - series2)\n",
    "print(series1 * series2)\n",
    "print(series1 / series2)"
   ],
   "metadata": {
    "collapsed": false
   }
  },
  {
   "cell_type": "markdown",
   "source": [
    "#### Arithmetic operations on pandas series using numpy functions\n"
   ],
   "metadata": {
    "collapsed": false
   }
  },
  {
   "cell_type": "code",
   "execution_count": null,
   "outputs": [],
   "source": [
    "series1 = pd.Series([1, 2, 3, 4, 5], index=['apple', 'banana', 'carrot', 'dates', 'egg'])\n",
    "series2 = pd.Series([1, 2, 3, 4, 5], index=['apple', 'banana', 'carrot', 'dates', 'egg'])\n",
    "print(np.add(series1, series2))\n",
    "print(np.subtract(series1, series2))\n",
    "print(np.multiply(series1, series2))\n",
    "print(np.divide(series1, series2))"
   ],
   "metadata": {
    "collapsed": false
   }
  },
  {
   "cell_type": "markdown",
   "source": [
    "### creating pandas dataframe"
   ],
   "metadata": {
    "collapsed": false
   }
  },
  {
   "cell_type": "markdown",
   "source": [
    "#### Manual Method\n"
   ],
   "metadata": {
    "collapsed": false
   }
  },
  {
   "cell_type": "code",
   "execution_count": null,
   "outputs": [],
   "source": [
    "items = {'Bob' : pd.Series(data = [245, 25, 55], index = ['bike', 'pants', 'watch']),\n",
    "         'Alice' : pd.Series(data = [40, 110, 500, 45], index = ['book', 'glasses', 'bike', 'pants'])}\n",
    "\n",
    "print(type(items))"
   ],
   "metadata": {
    "collapsed": false
   }
  },
  {
   "cell_type": "code",
   "execution_count": null,
   "outputs": [],
   "source": [
    "shopping_cart = pd.DataFrame(items)\n",
    "shopping_cart\n",
    "\n",
    "# you will note that output shown in an tabular format just like a spreadsheet with 2 columns and 5 rows"
   ],
   "metadata": {
    "collapsed": false
   }
  },
  {
   "cell_type": "markdown",
   "source": [
    "#### create a dictionary of Pandas Series without indexes\n"
   ],
   "metadata": {
    "collapsed": false
   }
  },
  {
   "cell_type": "code",
   "execution_count": null,
   "outputs": [],
   "source": [
    "dict = {'Name': pd.Series(['Tom', 'James', 'Ricky', 'Vin', 'Steve', 'Smith', 'Jack']),\n",
    "        'Age': pd.Series([25, 26, 25, 23, 30, 29, 23]),\n",
    "        'Rating': pd.Series([4.23, 3.24, 3.98, 2.56, 3.20, 4.6, 3.8])}\n",
    "# create a dataframe\n",
    "df = pd.DataFrame(dict)\n",
    "# print the output.\n",
    "df\n"
   ],
   "metadata": {
    "collapsed": false
   }
  },
  {
   "cell_type": "markdown",
   "source": [
    "#### creating pandas dataframe using list\n"
   ],
   "metadata": {
    "collapsed": false
   }
  },
  {
   "cell_type": "code",
   "execution_count": null,
   "outputs": [],
   "source": [
    "list = [pd.Series(['Tom', 'James', 'Ricky', 'Vin', 'Steve', 'Smith', 'Jack']),\n",
    "        pd.Series([25, 26, 25, 23, 30, 29, 23]),\n",
    "        pd.Series([4.23, 3.24, 3.98, 2.56, 3.20, 4.6, 3.8])]\n",
    "# create a dataframe\n",
    "df = pd.DataFrame(list)\n",
    "# print the output.\n",
    "df\n"
   ],
   "metadata": {
    "collapsed": false
   }
  },
  {
   "cell_type": "markdown",
   "source": [
    "#### creating pandas dataframe using numpy array\n"
   ],
   "metadata": {
    "collapsed": false
   }
  },
  {
   "cell_type": "code",
   "execution_count": null,
   "outputs": [],
   "source": [
    "array = np.array([pd.Series(['Tom', 'James', 'Ricky', 'Vin', 'Steve', 'Smith', 'Jack']),\n",
    "                  pd.Series([25, 26, 25, 23, 30, 29, 23]),\n",
    "                  pd.Series([4.23, 3.24, 3.98, 2.56, 3.20, 4.6, 3.8])])\n",
    "# create a dataframe\n",
    "df = pd.DataFrame(array)\n",
    "# print the output.\n",
    "df\n"
   ],
   "metadata": {
    "collapsed": false
   }
  },
  {
   "cell_type": "markdown",
   "source": [
    "#### creating pandas dataframe using list of dictionaries"
   ],
   "metadata": {
    "collapsed": false
   }
  },
  {
   "cell_type": "code",
   "execution_count": null,
   "outputs": [],
   "source": [
    "list = [{'a': 1, 'b': 2}, {'a': 5, 'b': 10, 'c': 20}]\n",
    "# create a dataframe\n",
    "df = pd.DataFrame(list)\n",
    "# print the output.\n",
    "df"
   ],
   "metadata": {
    "collapsed": false
   }
  },
  {
   "cell_type": "markdown",
   "source": [],
   "metadata": {
    "collapsed": false
   }
  },
  {
   "cell_type": "markdown",
   "source": [
    "#### select specific row from a dataframe\n"
   ],
   "metadata": {
    "collapsed": false
   }
  },
  {
   "cell_type": "code",
   "execution_count": null,
   "outputs": [],
   "source": [
    "items = {'Bob' : pd.Series(data = [245, 25, 55], index = ['bike', 'pants', 'watch']),\n",
    "         'Alice' : pd.Series(data = [40, 110, 500, 45], index = ['book', 'glasses', 'bike', 'pants'])}\n",
    "\n",
    "sel_shopping_cart = pd.DataFrame(items, index = ['pants', 'book'])\n",
    "print(sel_shopping_cart)"
   ],
   "metadata": {
    "collapsed": false
   }
  },
  {
   "cell_type": "markdown",
   "source": [
    "#### select specific column from a dataframe"
   ],
   "metadata": {
    "collapsed": false
   }
  },
  {
   "cell_type": "code",
   "execution_count": null,
   "outputs": [],
   "source": [
    "alice_sel_shopping_cart = pd.DataFrame(items, index = ['glasses', 'bike'], columns = ['Alice'])\n",
    "alice_sel_shopping_cart\n"
   ],
   "metadata": {
    "collapsed": false
   }
  },
  {
   "cell_type": "markdown",
   "source": [
    "#### Access elements using labels\n"
   ],
   "metadata": {
    "collapsed": false
   }
  },
  {
   "cell_type": "code",
   "execution_count": null,
   "outputs": [],
   "source": [
    "items2 = [{'bikes': 20, 'pants': 30, 'watches': 35},\n",
    "          {'watches': 10, 'glasses': 50, 'bikes': 15, 'pants':5}]\n",
    "\n",
    "store_items = pd.DataFrame(items2, index = ['store 1', 'store 2'])\n",
    "\n",
    "print(store_items, '\\n')\n",
    "# print('How many bikes are in each store:\\n', store_items[['bikes']], '\\n')\n",
    "# print('How many bikes and pants are in each store:\\n', store_items[['bikes', 'pants']], '\\n')\n",
    "# print('What items are in Store 1:\\n', store_items.loc[['store 1']], '\\n')\n",
    "# print('How many bikes are in Store 2:', store_items['bikes']['store 2'])"
   ],
   "metadata": {
    "collapsed": false
   }
  },
  {
   "cell_type": "markdown",
   "source": [
    "#### adding column to a dataframe"
   ],
   "metadata": {
    "collapsed": false
   }
  },
  {
   "cell_type": "code",
   "execution_count": null,
   "outputs": [],
   "source": [
    "\n",
    "store_items['shirts'] = [15,2]\n",
    "# print(store_items)\n",
    "\n",
    "store_items['hats'] = [4, 6]\n",
    "# store_items.insert(column='hats', value=[4, 6], loc=5)\n",
    "store_items"
   ],
   "metadata": {
    "collapsed": false
   }
  },
  {
   "cell_type": "markdown",
   "source": [
    "#### removing a column"
   ],
   "metadata": {
    "collapsed": false
   }
  },
  {
   "cell_type": "code",
   "execution_count": null,
   "outputs": [],
   "source": [
    "# using pop\n",
    "store_items.pop('hats')\n",
    "store_items\n",
    "\n",
    "# using delete\n",
    "# store_items.drop(columns='hats', inplace=True)\n",
    "# store_items"
   ],
   "metadata": {
    "collapsed": false
   }
  },
  {
   "cell_type": "markdown",
   "source": [
    "#### adding row to a dataframe\n"
   ],
   "metadata": {
    "collapsed": false
   }
  },
  {
   "cell_type": "code",
   "execution_count": null,
   "outputs": [],
   "source": [
    "new_items = [{'bikes': 20, 'pants': 30, 'watches': 35, 'glasses': 4}]\n",
    "# using append\n",
    "# store_items = store_items.append(new_items)\n",
    "# print(store_items)\n",
    "\n",
    "# using pandas\n",
    "store_items_new = pd.DataFrame(new_items, index=['store 3'])\n",
    "# store_items_new\n",
    "\n",
    "store_items = store_items.append(store_items_new)\n",
    "store_items"
   ],
   "metadata": {
    "collapsed": false
   }
  },
  {
   "cell_type": "markdown",
   "source": [
    "#### deleting row from a dataframe\n"
   ],
   "metadata": {
    "collapsed": false
   }
  },
  {
   "cell_type": "code",
   "execution_count": null,
   "outputs": [],
   "source": [
    "# store_items\n",
    "\n",
    "# store_items.pop('store 3')\n",
    "# store_items\n",
    "\n",
    "store_items = store_items.drop(['store 2', 'store 3'], axis=0)\n",
    "store_items\n"
   ],
   "metadata": {
    "collapsed": false
   }
  },
  {
   "cell_type": "markdown",
   "source": [
    "#### renaming column and row label\n"
   ],
   "metadata": {
    "collapsed": false
   }
  },
  {
   "cell_type": "code",
   "execution_count": null,
   "outputs": [],
   "source": [
    "# store_items\n",
    "\n",
    "store_items.rename({'store 1': 'store 100'}, inplace=True, axis=0)\n",
    "# store_items\n",
    "\n",
    "## or another way\n",
    "# store_items = store_items.rename(columns={'bikes':'biking'})\n",
    "store_items"
   ],
   "metadata": {
    "collapsed": false
   }
  },
  {
   "cell_type": "markdown",
   "source": [
    "#### Handling NUll values\n"
   ],
   "metadata": {
    "collapsed": false
   }
  },
  {
   "cell_type": "code",
   "execution_count": 199,
   "outputs": [
    {
     "name": "stdout",
     "output_type": "stream",
     "text": [
      "         bikes  pants  watches  shirts  shoes  suits  glasses\n",
      "store 1     20     30       35    15.0      8   45.0      NaN\n",
      "store 2     15      5       10     2.0      5    7.0     50.0\n",
      "store 3     20     30       35     NaN     10    NaN      4.0\n"
     ]
    }
   ],
   "source": [
    "import pandas as pd\n",
    "\n",
    "# 7 columns and 3 rows\n",
    "items2 = [{'bikes': 20, 'pants': 30, 'watches': 35, 'shirts': 15, 'shoes': 8, 'suits': 45},\n",
    "          {'watches': 10, 'glasses': 50, 'bikes': 15, 'pants': 5, 'shirts': 2, 'shoes': 5, 'suits': 7},\n",
    "          {'bikes': 20, 'pants': 30, 'watches': 35, 'glasses': 4, 'shoes': 10}]\n",
    "\n",
    "store_items = pd.DataFrame(items2, index=['store 1', 'store 2', 'store 3'])\n",
    "\n",
    "print(store_items)\n"
   ],
   "metadata": {
    "collapsed": false
   }
  },
  {
   "cell_type": "code",
   "execution_count": 196,
   "outputs": [
    {
     "data": {
      "text/plain": "3"
     },
     "execution_count": 196,
     "metadata": {},
     "output_type": "execute_result"
    }
   ],
   "source": [
    "total_null = store_items.isnull().sum().sum()\n",
    "# total_null = total_null.sum()\n",
    "total_null\n"
   ],
   "metadata": {
    "collapsed": false
   }
  },
  {
   "cell_type": "code",
   "execution_count": 197,
   "outputs": [
    {
     "data": {
      "text/plain": "         bikes  pants  watches  shirts  shoes  suits  glasses\nstore 1  False  False    False   False  False  False     True\nstore 2  False  False    False   False  False  False    False\nstore 3  False  False    False    True  False   True    False",
      "text/html": "<div>\n<style scoped>\n    .dataframe tbody tr th:only-of-type {\n        vertical-align: middle;\n    }\n\n    .dataframe tbody tr th {\n        vertical-align: top;\n    }\n\n    .dataframe thead th {\n        text-align: right;\n    }\n</style>\n<table border=\"1\" class=\"dataframe\">\n  <thead>\n    <tr style=\"text-align: right;\">\n      <th></th>\n      <th>bikes</th>\n      <th>pants</th>\n      <th>watches</th>\n      <th>shirts</th>\n      <th>shoes</th>\n      <th>suits</th>\n      <th>glasses</th>\n    </tr>\n  </thead>\n  <tbody>\n    <tr>\n      <th>store 1</th>\n      <td>False</td>\n      <td>False</td>\n      <td>False</td>\n      <td>False</td>\n      <td>False</td>\n      <td>False</td>\n      <td>True</td>\n    </tr>\n    <tr>\n      <th>store 2</th>\n      <td>False</td>\n      <td>False</td>\n      <td>False</td>\n      <td>False</td>\n      <td>False</td>\n      <td>False</td>\n      <td>False</td>\n    </tr>\n    <tr>\n      <th>store 3</th>\n      <td>False</td>\n      <td>False</td>\n      <td>False</td>\n      <td>True</td>\n      <td>False</td>\n      <td>True</td>\n      <td>False</td>\n    </tr>\n  </tbody>\n</table>\n</div>"
     },
     "execution_count": 197,
     "metadata": {},
     "output_type": "execute_result"
    }
   ],
   "source": [
    "store_items.isnull()\n"
   ],
   "metadata": {
    "collapsed": false
   }
  },
  {
   "cell_type": "markdown",
   "source": [
    "#### droppping null values\n"
   ],
   "metadata": {
    "collapsed": false
   }
  },
  {
   "cell_type": "code",
   "execution_count": 202,
   "outputs": [
    {
     "data": {
      "text/plain": "         bikes  pants  watches  shirts  shoes  suits  glasses\nstore 1     20     30       35    15.0      8   45.0      0.0\nstore 2     15      5       10     2.0      5    7.0     50.0\nstore 3     20     30       35     0.0     10    0.0      4.0",
      "text/html": "<div>\n<style scoped>\n    .dataframe tbody tr th:only-of-type {\n        vertical-align: middle;\n    }\n\n    .dataframe tbody tr th {\n        vertical-align: top;\n    }\n\n    .dataframe thead th {\n        text-align: right;\n    }\n</style>\n<table border=\"1\" class=\"dataframe\">\n  <thead>\n    <tr style=\"text-align: right;\">\n      <th></th>\n      <th>bikes</th>\n      <th>pants</th>\n      <th>watches</th>\n      <th>shirts</th>\n      <th>shoes</th>\n      <th>suits</th>\n      <th>glasses</th>\n    </tr>\n  </thead>\n  <tbody>\n    <tr>\n      <th>store 1</th>\n      <td>20</td>\n      <td>30</td>\n      <td>35</td>\n      <td>15.0</td>\n      <td>8</td>\n      <td>45.0</td>\n      <td>0.0</td>\n    </tr>\n    <tr>\n      <th>store 2</th>\n      <td>15</td>\n      <td>5</td>\n      <td>10</td>\n      <td>2.0</td>\n      <td>5</td>\n      <td>7.0</td>\n      <td>50.0</td>\n    </tr>\n    <tr>\n      <th>store 3</th>\n      <td>20</td>\n      <td>30</td>\n      <td>35</td>\n      <td>0.0</td>\n      <td>10</td>\n      <td>0.0</td>\n      <td>4.0</td>\n    </tr>\n  </tbody>\n</table>\n</div>"
     },
     "execution_count": 202,
     "metadata": {},
     "output_type": "execute_result"
    }
   ],
   "source": [
    "# drop values from row\n",
    "# store_items.dropna(axis = 0, inplace=True)\n",
    "# store_items\n",
    "\n",
    "# drop values from column\n",
    "# store_items.dropna(axis = 1, inplace=True)\n",
    "# store_items\n",
    "\n",
    "# we can also replace those null values\n",
    "store_items.fillna(5, inplace=True)\n",
    "store_items"
   ],
   "metadata": {
    "collapsed": false
   }
  },
  {
   "cell_type": "markdown",
   "source": [
    "#### Loading data into a Dataframe\n"
   ],
   "metadata": {
    "collapsed": false
   }
  },
  {
   "cell_type": "code",
   "execution_count": 203,
   "outputs": [
    {
     "data": {
      "text/plain": "            Date        Open        High         Low       Close   Adj Close  \\\n0     2004-08-19   49.676899   51.693783   47.669952   49.845802   49.845802   \n1     2004-08-20   50.178635   54.187561   49.925285   53.805050   53.805050   \n2     2004-08-23   55.017166   56.373344   54.172661   54.346527   54.346527   \n3     2004-08-24   55.260582   55.439419   51.450363   52.096165   52.096165   \n4     2004-08-25   52.140873   53.651051   51.604362   52.657513   52.657513   \n...          ...         ...         ...         ...         ...         ...   \n3308  2017-10-09  980.000000  985.424988  976.109985  977.000000  977.000000   \n3309  2017-10-10  980.000000  981.570007  966.080017  972.599976  972.599976   \n3310  2017-10-11  973.719971  990.710022  972.250000  989.250000  989.250000   \n3311  2017-10-12  987.450012  994.119995  985.000000  987.830017  987.830017   \n3312  2017-10-13  992.000000  997.210022  989.000000  989.679993  989.679993   \n\n        Volume  \n0     44994500  \n1     23005800  \n2     18393200  \n3     15361800  \n4      9257400  \n...        ...  \n3308    891400  \n3309    968400  \n3310   1693300  \n3311   1262400  \n3312   1157700  \n\n[3313 rows x 7 columns]",
      "text/html": "<div>\n<style scoped>\n    .dataframe tbody tr th:only-of-type {\n        vertical-align: middle;\n    }\n\n    .dataframe tbody tr th {\n        vertical-align: top;\n    }\n\n    .dataframe thead th {\n        text-align: right;\n    }\n</style>\n<table border=\"1\" class=\"dataframe\">\n  <thead>\n    <tr style=\"text-align: right;\">\n      <th></th>\n      <th>Date</th>\n      <th>Open</th>\n      <th>High</th>\n      <th>Low</th>\n      <th>Close</th>\n      <th>Adj Close</th>\n      <th>Volume</th>\n    </tr>\n  </thead>\n  <tbody>\n    <tr>\n      <th>0</th>\n      <td>2004-08-19</td>\n      <td>49.676899</td>\n      <td>51.693783</td>\n      <td>47.669952</td>\n      <td>49.845802</td>\n      <td>49.845802</td>\n      <td>44994500</td>\n    </tr>\n    <tr>\n      <th>1</th>\n      <td>2004-08-20</td>\n      <td>50.178635</td>\n      <td>54.187561</td>\n      <td>49.925285</td>\n      <td>53.805050</td>\n      <td>53.805050</td>\n      <td>23005800</td>\n    </tr>\n    <tr>\n      <th>2</th>\n      <td>2004-08-23</td>\n      <td>55.017166</td>\n      <td>56.373344</td>\n      <td>54.172661</td>\n      <td>54.346527</td>\n      <td>54.346527</td>\n      <td>18393200</td>\n    </tr>\n    <tr>\n      <th>3</th>\n      <td>2004-08-24</td>\n      <td>55.260582</td>\n      <td>55.439419</td>\n      <td>51.450363</td>\n      <td>52.096165</td>\n      <td>52.096165</td>\n      <td>15361800</td>\n    </tr>\n    <tr>\n      <th>4</th>\n      <td>2004-08-25</td>\n      <td>52.140873</td>\n      <td>53.651051</td>\n      <td>51.604362</td>\n      <td>52.657513</td>\n      <td>52.657513</td>\n      <td>9257400</td>\n    </tr>\n    <tr>\n      <th>...</th>\n      <td>...</td>\n      <td>...</td>\n      <td>...</td>\n      <td>...</td>\n      <td>...</td>\n      <td>...</td>\n      <td>...</td>\n    </tr>\n    <tr>\n      <th>3308</th>\n      <td>2017-10-09</td>\n      <td>980.000000</td>\n      <td>985.424988</td>\n      <td>976.109985</td>\n      <td>977.000000</td>\n      <td>977.000000</td>\n      <td>891400</td>\n    </tr>\n    <tr>\n      <th>3309</th>\n      <td>2017-10-10</td>\n      <td>980.000000</td>\n      <td>981.570007</td>\n      <td>966.080017</td>\n      <td>972.599976</td>\n      <td>972.599976</td>\n      <td>968400</td>\n    </tr>\n    <tr>\n      <th>3310</th>\n      <td>2017-10-11</td>\n      <td>973.719971</td>\n      <td>990.710022</td>\n      <td>972.250000</td>\n      <td>989.250000</td>\n      <td>989.250000</td>\n      <td>1693300</td>\n    </tr>\n    <tr>\n      <th>3311</th>\n      <td>2017-10-12</td>\n      <td>987.450012</td>\n      <td>994.119995</td>\n      <td>985.000000</td>\n      <td>987.830017</td>\n      <td>987.830017</td>\n      <td>1262400</td>\n    </tr>\n    <tr>\n      <th>3312</th>\n      <td>2017-10-13</td>\n      <td>992.000000</td>\n      <td>997.210022</td>\n      <td>989.000000</td>\n      <td>989.679993</td>\n      <td>989.679993</td>\n      <td>1157700</td>\n    </tr>\n  </tbody>\n</table>\n<p>3313 rows × 7 columns</p>\n</div>"
     },
     "execution_count": 203,
     "metadata": {},
     "output_type": "execute_result"
    }
   ],
   "source": [
    "google_stock = pd.read_csv('goog-1.csv')\n",
    "google_stock"
   ],
   "metadata": {
    "collapsed": false
   }
  },
  {
   "cell_type": "code",
   "execution_count": 205,
   "outputs": [
    {
     "data": {
      "text/plain": "         Date       Open       High        Low      Close  Adj Close    Volume\n0  2004-08-19  49.676899  51.693783  47.669952  49.845802  49.845802  44994500\n1  2004-08-20  50.178635  54.187561  49.925285  53.805050  53.805050  23005800\n2  2004-08-23  55.017166  56.373344  54.172661  54.346527  54.346527  18393200\n3  2004-08-24  55.260582  55.439419  51.450363  52.096165  52.096165  15361800\n4  2004-08-25  52.140873  53.651051  51.604362  52.657513  52.657513   9257400\n5  2004-08-26  52.135906  53.626213  51.991844  53.606342  53.606342   7148200\n6  2004-08-27  53.700729  53.959049  52.503513  52.732029  52.732029   6258300\n7  2004-08-30  52.299839  52.404160  50.675404  50.675404  50.675404   5235700\n8  2004-08-31  50.819469  51.519913  50.749920  50.854240  50.854240   4954800\n9  2004-09-01  51.018177  51.152302  49.512966  49.801090  49.801090   9206800",
      "text/html": "<div>\n<style scoped>\n    .dataframe tbody tr th:only-of-type {\n        vertical-align: middle;\n    }\n\n    .dataframe tbody tr th {\n        vertical-align: top;\n    }\n\n    .dataframe thead th {\n        text-align: right;\n    }\n</style>\n<table border=\"1\" class=\"dataframe\">\n  <thead>\n    <tr style=\"text-align: right;\">\n      <th></th>\n      <th>Date</th>\n      <th>Open</th>\n      <th>High</th>\n      <th>Low</th>\n      <th>Close</th>\n      <th>Adj Close</th>\n      <th>Volume</th>\n    </tr>\n  </thead>\n  <tbody>\n    <tr>\n      <th>0</th>\n      <td>2004-08-19</td>\n      <td>49.676899</td>\n      <td>51.693783</td>\n      <td>47.669952</td>\n      <td>49.845802</td>\n      <td>49.845802</td>\n      <td>44994500</td>\n    </tr>\n    <tr>\n      <th>1</th>\n      <td>2004-08-20</td>\n      <td>50.178635</td>\n      <td>54.187561</td>\n      <td>49.925285</td>\n      <td>53.805050</td>\n      <td>53.805050</td>\n      <td>23005800</td>\n    </tr>\n    <tr>\n      <th>2</th>\n      <td>2004-08-23</td>\n      <td>55.017166</td>\n      <td>56.373344</td>\n      <td>54.172661</td>\n      <td>54.346527</td>\n      <td>54.346527</td>\n      <td>18393200</td>\n    </tr>\n    <tr>\n      <th>3</th>\n      <td>2004-08-24</td>\n      <td>55.260582</td>\n      <td>55.439419</td>\n      <td>51.450363</td>\n      <td>52.096165</td>\n      <td>52.096165</td>\n      <td>15361800</td>\n    </tr>\n    <tr>\n      <th>4</th>\n      <td>2004-08-25</td>\n      <td>52.140873</td>\n      <td>53.651051</td>\n      <td>51.604362</td>\n      <td>52.657513</td>\n      <td>52.657513</td>\n      <td>9257400</td>\n    </tr>\n    <tr>\n      <th>5</th>\n      <td>2004-08-26</td>\n      <td>52.135906</td>\n      <td>53.626213</td>\n      <td>51.991844</td>\n      <td>53.606342</td>\n      <td>53.606342</td>\n      <td>7148200</td>\n    </tr>\n    <tr>\n      <th>6</th>\n      <td>2004-08-27</td>\n      <td>53.700729</td>\n      <td>53.959049</td>\n      <td>52.503513</td>\n      <td>52.732029</td>\n      <td>52.732029</td>\n      <td>6258300</td>\n    </tr>\n    <tr>\n      <th>7</th>\n      <td>2004-08-30</td>\n      <td>52.299839</td>\n      <td>52.404160</td>\n      <td>50.675404</td>\n      <td>50.675404</td>\n      <td>50.675404</td>\n      <td>5235700</td>\n    </tr>\n    <tr>\n      <th>8</th>\n      <td>2004-08-31</td>\n      <td>50.819469</td>\n      <td>51.519913</td>\n      <td>50.749920</td>\n      <td>50.854240</td>\n      <td>50.854240</td>\n      <td>4954800</td>\n    </tr>\n    <tr>\n      <th>9</th>\n      <td>2004-09-01</td>\n      <td>51.018177</td>\n      <td>51.152302</td>\n      <td>49.512966</td>\n      <td>49.801090</td>\n      <td>49.801090</td>\n      <td>9206800</td>\n    </tr>\n  </tbody>\n</table>\n</div>"
     },
     "execution_count": 205,
     "metadata": {},
     "output_type": "execute_result"
    }
   ],
   "source": [
    "google_stock.head(10)"
   ],
   "metadata": {
    "collapsed": false
   }
  },
  {
   "cell_type": "code",
   "execution_count": 207,
   "outputs": [
    {
     "data": {
      "text/plain": "            Date        Open        High         Low       Close   Adj Close  \\\n3303  2017-10-02  959.979980  962.539978  947.840027  953.270020  953.270020   \n3304  2017-10-03  954.000000  958.000000  949.140015  957.789978  957.789978   \n3305  2017-10-04  957.000000  960.390015  950.690002  951.679993  951.679993   \n3306  2017-10-05  955.489990  970.909973  955.179993  969.960022  969.960022   \n3307  2017-10-06  966.700012  979.460022  963.359985  978.890015  978.890015   \n3308  2017-10-09  980.000000  985.424988  976.109985  977.000000  977.000000   \n3309  2017-10-10  980.000000  981.570007  966.080017  972.599976  972.599976   \n3310  2017-10-11  973.719971  990.710022  972.250000  989.250000  989.250000   \n3311  2017-10-12  987.450012  994.119995  985.000000  987.830017  987.830017   \n3312  2017-10-13  992.000000  997.210022  989.000000  989.679993  989.679993   \n\n       Volume  \n3303  1283400  \n3304   888300  \n3305   952400  \n3306  1213800  \n3307  1173900  \n3308   891400  \n3309   968400  \n3310  1693300  \n3311  1262400  \n3312  1157700  ",
      "text/html": "<div>\n<style scoped>\n    .dataframe tbody tr th:only-of-type {\n        vertical-align: middle;\n    }\n\n    .dataframe tbody tr th {\n        vertical-align: top;\n    }\n\n    .dataframe thead th {\n        text-align: right;\n    }\n</style>\n<table border=\"1\" class=\"dataframe\">\n  <thead>\n    <tr style=\"text-align: right;\">\n      <th></th>\n      <th>Date</th>\n      <th>Open</th>\n      <th>High</th>\n      <th>Low</th>\n      <th>Close</th>\n      <th>Adj Close</th>\n      <th>Volume</th>\n    </tr>\n  </thead>\n  <tbody>\n    <tr>\n      <th>3303</th>\n      <td>2017-10-02</td>\n      <td>959.979980</td>\n      <td>962.539978</td>\n      <td>947.840027</td>\n      <td>953.270020</td>\n      <td>953.270020</td>\n      <td>1283400</td>\n    </tr>\n    <tr>\n      <th>3304</th>\n      <td>2017-10-03</td>\n      <td>954.000000</td>\n      <td>958.000000</td>\n      <td>949.140015</td>\n      <td>957.789978</td>\n      <td>957.789978</td>\n      <td>888300</td>\n    </tr>\n    <tr>\n      <th>3305</th>\n      <td>2017-10-04</td>\n      <td>957.000000</td>\n      <td>960.390015</td>\n      <td>950.690002</td>\n      <td>951.679993</td>\n      <td>951.679993</td>\n      <td>952400</td>\n    </tr>\n    <tr>\n      <th>3306</th>\n      <td>2017-10-05</td>\n      <td>955.489990</td>\n      <td>970.909973</td>\n      <td>955.179993</td>\n      <td>969.960022</td>\n      <td>969.960022</td>\n      <td>1213800</td>\n    </tr>\n    <tr>\n      <th>3307</th>\n      <td>2017-10-06</td>\n      <td>966.700012</td>\n      <td>979.460022</td>\n      <td>963.359985</td>\n      <td>978.890015</td>\n      <td>978.890015</td>\n      <td>1173900</td>\n    </tr>\n    <tr>\n      <th>3308</th>\n      <td>2017-10-09</td>\n      <td>980.000000</td>\n      <td>985.424988</td>\n      <td>976.109985</td>\n      <td>977.000000</td>\n      <td>977.000000</td>\n      <td>891400</td>\n    </tr>\n    <tr>\n      <th>3309</th>\n      <td>2017-10-10</td>\n      <td>980.000000</td>\n      <td>981.570007</td>\n      <td>966.080017</td>\n      <td>972.599976</td>\n      <td>972.599976</td>\n      <td>968400</td>\n    </tr>\n    <tr>\n      <th>3310</th>\n      <td>2017-10-11</td>\n      <td>973.719971</td>\n      <td>990.710022</td>\n      <td>972.250000</td>\n      <td>989.250000</td>\n      <td>989.250000</td>\n      <td>1693300</td>\n    </tr>\n    <tr>\n      <th>3311</th>\n      <td>2017-10-12</td>\n      <td>987.450012</td>\n      <td>994.119995</td>\n      <td>985.000000</td>\n      <td>987.830017</td>\n      <td>987.830017</td>\n      <td>1262400</td>\n    </tr>\n    <tr>\n      <th>3312</th>\n      <td>2017-10-13</td>\n      <td>992.000000</td>\n      <td>997.210022</td>\n      <td>989.000000</td>\n      <td>989.679993</td>\n      <td>989.679993</td>\n      <td>1157700</td>\n    </tr>\n  </tbody>\n</table>\n</div>"
     },
     "execution_count": 207,
     "metadata": {},
     "output_type": "execute_result"
    }
   ],
   "source": [
    "google_stock.tail(10)"
   ],
   "metadata": {
    "collapsed": false
   }
  },
  {
   "cell_type": "code",
   "execution_count": 208,
   "outputs": [
    {
     "data": {
      "text/plain": "Date         False\nOpen         False\nHigh         False\nLow          False\nClose        False\nAdj Close    False\nVolume       False\ndtype: bool"
     },
     "execution_count": 208,
     "metadata": {},
     "output_type": "execute_result"
    }
   ],
   "source": [
    "google_stock.isnull().any()"
   ],
   "metadata": {
    "collapsed": false
   }
  },
  {
   "cell_type": "code",
   "execution_count": 210,
   "outputs": [
    {
     "data": {
      "text/plain": "              Open         High          Low        Close    Adj Close  \\\ncount  3313.000000  3313.000000  3313.000000  3313.000000  3313.000000   \nmean    380.186092   383.493740   376.519309   380.072458   380.072458   \nstd     223.818650   224.974534   222.473232   223.853780   223.853780   \nmin      49.274517    50.541279    47.669952    49.681866    49.681866   \n25%     226.556473   228.394516   224.003082   226.407440   226.407440   \n50%     293.312286   295.433502   289.929291   293.029114   293.029114   \n75%     536.650024   540.000000   532.409973   536.690002   536.690002   \nmax     992.000000   997.210022   989.000000   989.679993   989.679993   \n\n             Volume  \ncount  3.313000e+03  \nmean   8.038476e+06  \nstd    8.399521e+06  \nmin    7.900000e+03  \n25%    2.584900e+06  \n50%    5.281300e+06  \n75%    1.065370e+07  \nmax    8.276810e+07  ",
      "text/html": "<div>\n<style scoped>\n    .dataframe tbody tr th:only-of-type {\n        vertical-align: middle;\n    }\n\n    .dataframe tbody tr th {\n        vertical-align: top;\n    }\n\n    .dataframe thead th {\n        text-align: right;\n    }\n</style>\n<table border=\"1\" class=\"dataframe\">\n  <thead>\n    <tr style=\"text-align: right;\">\n      <th></th>\n      <th>Open</th>\n      <th>High</th>\n      <th>Low</th>\n      <th>Close</th>\n      <th>Adj Close</th>\n      <th>Volume</th>\n    </tr>\n  </thead>\n  <tbody>\n    <tr>\n      <th>count</th>\n      <td>3313.000000</td>\n      <td>3313.000000</td>\n      <td>3313.000000</td>\n      <td>3313.000000</td>\n      <td>3313.000000</td>\n      <td>3.313000e+03</td>\n    </tr>\n    <tr>\n      <th>mean</th>\n      <td>380.186092</td>\n      <td>383.493740</td>\n      <td>376.519309</td>\n      <td>380.072458</td>\n      <td>380.072458</td>\n      <td>8.038476e+06</td>\n    </tr>\n    <tr>\n      <th>std</th>\n      <td>223.818650</td>\n      <td>224.974534</td>\n      <td>222.473232</td>\n      <td>223.853780</td>\n      <td>223.853780</td>\n      <td>8.399521e+06</td>\n    </tr>\n    <tr>\n      <th>min</th>\n      <td>49.274517</td>\n      <td>50.541279</td>\n      <td>47.669952</td>\n      <td>49.681866</td>\n      <td>49.681866</td>\n      <td>7.900000e+03</td>\n    </tr>\n    <tr>\n      <th>25%</th>\n      <td>226.556473</td>\n      <td>228.394516</td>\n      <td>224.003082</td>\n      <td>226.407440</td>\n      <td>226.407440</td>\n      <td>2.584900e+06</td>\n    </tr>\n    <tr>\n      <th>50%</th>\n      <td>293.312286</td>\n      <td>295.433502</td>\n      <td>289.929291</td>\n      <td>293.029114</td>\n      <td>293.029114</td>\n      <td>5.281300e+06</td>\n    </tr>\n    <tr>\n      <th>75%</th>\n      <td>536.650024</td>\n      <td>540.000000</td>\n      <td>532.409973</td>\n      <td>536.690002</td>\n      <td>536.690002</td>\n      <td>1.065370e+07</td>\n    </tr>\n    <tr>\n      <th>max</th>\n      <td>992.000000</td>\n      <td>997.210022</td>\n      <td>989.000000</td>\n      <td>989.679993</td>\n      <td>989.679993</td>\n      <td>8.276810e+07</td>\n    </tr>\n  </tbody>\n</table>\n</div>"
     },
     "execution_count": 210,
     "metadata": {},
     "output_type": "execute_result"
    }
   ],
   "source": [
    "google_stock.describe()"
   ],
   "metadata": {
    "collapsed": false
   }
  },
  {
   "cell_type": "code",
   "execution_count": 212,
   "outputs": [
    {
     "data": {
      "text/plain": "count    3.313000e+03\nmean     8.038476e+06\nstd      8.399521e+06\nmin      7.900000e+03\n25%      2.584900e+06\n50%      5.281300e+06\n75%      1.065370e+07\nmax      8.276810e+07\nName: Volume, dtype: float64"
     },
     "execution_count": 212,
     "metadata": {},
     "output_type": "execute_result"
    }
   ],
   "source": [
    "google_stock['Volume'].describe()"
   ],
   "metadata": {
    "collapsed": false
   }
  },
  {
   "cell_type": "code",
   "execution_count": 214,
   "outputs": [
    {
     "data": {
      "text/plain": "               Open      High       Low     Close  Adj Close    Volume\nOpen       1.000000  0.999904  0.999845  0.999745   0.999745 -0.564258\nHigh       0.999904  1.000000  0.999834  0.999868   0.999868 -0.562749\nLow        0.999845  0.999834  1.000000  0.999899   0.999899 -0.567007\nClose      0.999745  0.999868  0.999899  1.000000   1.000000 -0.564967\nAdj Close  0.999745  0.999868  0.999899  1.000000   1.000000 -0.564967\nVolume    -0.564258 -0.562749 -0.567007 -0.564967  -0.564967  1.000000",
      "text/html": "<div>\n<style scoped>\n    .dataframe tbody tr th:only-of-type {\n        vertical-align: middle;\n    }\n\n    .dataframe tbody tr th {\n        vertical-align: top;\n    }\n\n    .dataframe thead th {\n        text-align: right;\n    }\n</style>\n<table border=\"1\" class=\"dataframe\">\n  <thead>\n    <tr style=\"text-align: right;\">\n      <th></th>\n      <th>Open</th>\n      <th>High</th>\n      <th>Low</th>\n      <th>Close</th>\n      <th>Adj Close</th>\n      <th>Volume</th>\n    </tr>\n  </thead>\n  <tbody>\n    <tr>\n      <th>Open</th>\n      <td>1.000000</td>\n      <td>0.999904</td>\n      <td>0.999845</td>\n      <td>0.999745</td>\n      <td>0.999745</td>\n      <td>-0.564258</td>\n    </tr>\n    <tr>\n      <th>High</th>\n      <td>0.999904</td>\n      <td>1.000000</td>\n      <td>0.999834</td>\n      <td>0.999868</td>\n      <td>0.999868</td>\n      <td>-0.562749</td>\n    </tr>\n    <tr>\n      <th>Low</th>\n      <td>0.999845</td>\n      <td>0.999834</td>\n      <td>1.000000</td>\n      <td>0.999899</td>\n      <td>0.999899</td>\n      <td>-0.567007</td>\n    </tr>\n    <tr>\n      <th>Close</th>\n      <td>0.999745</td>\n      <td>0.999868</td>\n      <td>0.999899</td>\n      <td>1.000000</td>\n      <td>1.000000</td>\n      <td>-0.564967</td>\n    </tr>\n    <tr>\n      <th>Adj Close</th>\n      <td>0.999745</td>\n      <td>0.999868</td>\n      <td>0.999899</td>\n      <td>1.000000</td>\n      <td>1.000000</td>\n      <td>-0.564967</td>\n    </tr>\n    <tr>\n      <th>Volume</th>\n      <td>-0.564258</td>\n      <td>-0.562749</td>\n      <td>-0.567007</td>\n      <td>-0.564967</td>\n      <td>-0.564967</td>\n      <td>1.000000</td>\n    </tr>\n  </tbody>\n</table>\n</div>"
     },
     "execution_count": 214,
     "metadata": {},
     "output_type": "execute_result"
    }
   ],
   "source": [
    "# google_stock.max()\n",
    "google_stock.corr()\n",
    "\n",
    "# google_stock."
   ],
   "metadata": {
    "collapsed": false
   }
  },
  {
   "cell_type": "markdown",
   "source": [
    "#### using groupby"
   ],
   "metadata": {
    "collapsed": false
   }
  },
  {
   "cell_type": "code",
   "execution_count": 215,
   "outputs": [
    {
     "data": {
      "text/plain": "   Year     Name Department  Age  Salary\n0  1990    Alice         HR   25   50000\n1  1990      Bob         RD   30   48000\n2  1990  Charlie      Admin   45   55000\n3  1991   Dakota         HR   26   52000\n4  1991     Elsa         RD   31   50000\n5  1991    Frank      Admin   46   60000\n6  1992    Grace      Admin   27   60000\n7  1992  Hoffman         RD   32   52000\n8  1992    Inaar      Admin   28   62000",
      "text/html": "<div>\n<style scoped>\n    .dataframe tbody tr th:only-of-type {\n        vertical-align: middle;\n    }\n\n    .dataframe tbody tr th {\n        vertical-align: top;\n    }\n\n    .dataframe thead th {\n        text-align: right;\n    }\n</style>\n<table border=\"1\" class=\"dataframe\">\n  <thead>\n    <tr style=\"text-align: right;\">\n      <th></th>\n      <th>Year</th>\n      <th>Name</th>\n      <th>Department</th>\n      <th>Age</th>\n      <th>Salary</th>\n    </tr>\n  </thead>\n  <tbody>\n    <tr>\n      <th>0</th>\n      <td>1990</td>\n      <td>Alice</td>\n      <td>HR</td>\n      <td>25</td>\n      <td>50000</td>\n    </tr>\n    <tr>\n      <th>1</th>\n      <td>1990</td>\n      <td>Bob</td>\n      <td>RD</td>\n      <td>30</td>\n      <td>48000</td>\n    </tr>\n    <tr>\n      <th>2</th>\n      <td>1990</td>\n      <td>Charlie</td>\n      <td>Admin</td>\n      <td>45</td>\n      <td>55000</td>\n    </tr>\n    <tr>\n      <th>3</th>\n      <td>1991</td>\n      <td>Dakota</td>\n      <td>HR</td>\n      <td>26</td>\n      <td>52000</td>\n    </tr>\n    <tr>\n      <th>4</th>\n      <td>1991</td>\n      <td>Elsa</td>\n      <td>RD</td>\n      <td>31</td>\n      <td>50000</td>\n    </tr>\n    <tr>\n      <th>5</th>\n      <td>1991</td>\n      <td>Frank</td>\n      <td>Admin</td>\n      <td>46</td>\n      <td>60000</td>\n    </tr>\n    <tr>\n      <th>6</th>\n      <td>1992</td>\n      <td>Grace</td>\n      <td>Admin</td>\n      <td>27</td>\n      <td>60000</td>\n    </tr>\n    <tr>\n      <th>7</th>\n      <td>1992</td>\n      <td>Hoffman</td>\n      <td>RD</td>\n      <td>32</td>\n      <td>52000</td>\n    </tr>\n    <tr>\n      <th>8</th>\n      <td>1992</td>\n      <td>Inaar</td>\n      <td>Admin</td>\n      <td>28</td>\n      <td>62000</td>\n    </tr>\n  </tbody>\n</table>\n</div>"
     },
     "execution_count": 215,
     "metadata": {},
     "output_type": "execute_result"
    }
   ],
   "source": [
    "comp = pd.read_csv('fake-company.csv')\n",
    "comp"
   ],
   "metadata": {
    "collapsed": false
   }
  },
  {
   "cell_type": "code",
   "execution_count": 218,
   "outputs": [
    {
     "data": {
      "text/plain": "Year  Name   \n1990  Alice      50000\n      Bob        48000\n      Charlie    55000\n1991  Dakota     52000\n      Elsa       50000\n      Frank      60000\n1992  Grace      60000\n      Hoffman    52000\n      Inaar      62000\nName: Salary, dtype: int64"
     },
     "execution_count": 218,
     "metadata": {},
     "output_type": "execute_result"
    }
   ],
   "source": [
    "# comp.groupby(['Year'])['Salary'].sum()\n",
    "comp.groupby(['Year', 'Name'])['Salary'].max()"
   ],
   "metadata": {
    "collapsed": false
   }
  },
  {
   "cell_type": "code",
   "execution_count": 219,
   "outputs": [
    {
     "data": {
      "text/plain": "Year  Department\n1990  Admin         55000\n      HR            50000\n      RD            48000\n1991  Admin         60000\n      HR            52000\n      RD            50000\n1992  Admin         62000\n      RD            52000\nName: Salary, dtype: int64"
     },
     "execution_count": 219,
     "metadata": {},
     "output_type": "execute_result"
    }
   ],
   "source": [
    "comp.groupby(['Year', 'Department'])['Salary'].max()"
   ],
   "metadata": {
    "collapsed": false
   }
  },
  {
   "cell_type": "code",
   "execution_count": 3,
   "outputs": [
    {
     "data": {
      "text/plain": "<Figure size 640x480 with 1 Axes>",
      "image/png": "[encoded data removed]"
     },
     "metadata": {},
     "output_type": "display_data"
    }
   ],
   "source": [
    "import numpy as np\n",
    "# import matplotlib\n",
    "# matplotlib.use('TkAgg')\n",
    "import matplotlib.pyplot as plt\n",
    "# create x and y vectors\n",
    "x = np.linspace(-2, 2, 100)\n",
    "y = 2 * x + 1\n",
    "plt.plot(x, y);\n",
    "# plt.show()\n"
   ],
   "metadata": {
    "collapsed": false
   }
  },
  {
   "cell_type": "code",
   "execution_count": null,
   "outputs": [],
   "source": [],
   "metadata": {
    "collapsed": false
   }
  }
 ],
 "metadata": {
  "kernelspec": {
   "display_name": "Python 3",
   "language": "python",
   "name": "python3"
  },
  "language_info": {
   "codemirror_mode": {
    "name": "ipython",
    "version": 2
   },
   "file_extension": ".py",
   "mimetype": "text/x-python",
   "name": "python",
   "nbconvert_exporter": "python",
   "pygments_lexer": "ipython2",
   "version": "2.7.6"
  }
 },
 "nbformat": 4,
 "nbformat_minor": 0
}
